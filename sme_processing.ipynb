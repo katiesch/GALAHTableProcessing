{
 "cells": [
  {
   "cell_type": "code",
   "execution_count": 2,
   "metadata": {
    "collapsed": false
   },
   "outputs": [],
   "source": [
    "import pyfits \n",
    "import pandas as pd\n",
    "from astropy.io import fits\n",
    "import numpy as np"
   ]
  },
  {
   "cell_type": "markdown",
   "metadata": {},
   "source": [
    "Reads in the abundance output from SME and produces a data frame of the values. Currently the abundances and associated quality indicators are organised as tuples; this code splits them all up to be organised by element. "
   ]
  },
  {
   "cell_type": "code",
   "execution_count": 3,
   "metadata": {
    "collapsed": false
   },
   "outputs": [],
   "source": [
    "smedata=pd.DataFrame()\n",
    "\n",
    "sme_abund=pyfits.open('/Users/kschles/Documents/GALAH/wg4output/wg4_04292016/k2final.fits')\n",
    "# Alternatively can read in using astropy.Table and convert to pandas but there may be an issue with the tuples, so stick\n",
    "# with the status quo for the time being. \n",
    "\n",
    "## Not terribly elegant technique below, but it functions! \n",
    "smedata['OBJECT']=np.array(sme_abund[1].data['OBJECT']).byteswap().newbyteorder().astype(int)\n",
    "smedata['GALAH_ID']=sme_abund[1].data['GALAH_ID'].byteswap().newbyteorder()\n",
    "smedata['RA']=sme_abund[1].data['RA'].byteswap().newbyteorder()\n",
    "smedata['DEC']=sme_abund[1].data['DEC'].byteswap().newbyteorder()\n",
    "smedata['VEL']=sme_abund[1].data['VEL'].byteswap().newbyteorder()\n",
    "smedata['E_VEL']=sme_abund[1].data['E_VEL'].byteswap().newbyteorder()\n",
    "smedata['TEFF']=sme_abund[1].data['TEFF'].byteswap().newbyteorder()\n",
    "smedata['E_TEFF']=sme_abund[1].data['E_TEFF'].byteswap().newbyteorder()\n",
    "smedata['LOGG']=sme_abund[1].data['LOGG'].byteswap().newbyteorder()\n",
    "smedata['E_LOGG']=sme_abund[1].data['E_LOGG'].byteswap().newbyteorder()\n",
    "smedata['FEH']=sme_abund[1].data['FEH'].byteswap().newbyteorder()\n",
    "smedata['E_FEH']=sme_abund[1].data['E_FEH'].byteswap().newbyteorder()\n",
    "smedata['VMIC']=sme_abund[1].data['VMIC'].byteswap().newbyteorder()\n",
    "smedata['E_VMIC']=sme_abund[1].data['E_VMIC'].byteswap().newbyteorder()\n",
    "smedata['VMAC']=sme_abund[1].data['VMAC'].byteswap().newbyteorder()\n",
    "smedata['E_VMAC']=sme_abund[1].data['E_VMAC'].byteswap().newbyteorder()\n",
    "smedata['ABFE']=sme_abund[1].data['ABFE'].byteswap().newbyteorder()         ## redundant with FE_ABUND\n",
    "smedata['E_ABFE']=sme_abund[1].data['E_ABFE'].byteswap().newbyteorder()\n",
    "smedata['ALPHA_FE']=sme_abund[1].data['ALPHA_FE'].byteswap().newbyteorder()\n",
    "smedata['E_ALPHA_FE']=sme_abund[1].data['E_ALPHA_FE'].byteswap().newbyteorder()\n",
    "smedata['VRAD']=sme_abund[1].data['VRAD'].byteswap().newbyteorder()         \n",
    "smedata['E_RAD']=sme_abund[1].data['E_VRAD'].byteswap().newbyteorder()\n",
    "smedata['VSINI']=sme_abund[1].data['VSINI'].byteswap().newbyteorder()\n",
    "smedata['E_VSINI']=sme_abund[1].data['E_VSINI'].byteswap().newbyteorder()\n",
    "smedata['VMAC']=sme_abund[1].data['VMAC'].byteswap().newbyteorder()\n",
    "smedata['E_VMAC']=sme_abund[1].data['E_VMAC'].byteswap().newbyteorder()\n",
    "smedata['TECH']=sme_abund[1].data['TECH'].byteswap().newbyteorder()\n",
    "smedata['SN_1']=sme_abund[1].data['SN'][:,0].byteswap().newbyteorder()\n",
    "smedata['SN_2']=sme_abund[1].data['SN'][:,1].byteswap().newbyteorder()\n",
    "smedata['SN_3']=sme_abund[1].data['SN'][:,2].byteswap().newbyteorder()\n",
    "smedata['SN_4']=sme_abund[1].data['SN'][:,3].byteswap().newbyteorder()\n"
   ]
  },
  {
   "cell_type": "code",
   "execution_count": 4,
   "metadata": {
    "collapsed": true
   },
   "outputs": [],
   "source": [
    "## Tuples\n",
    "smedata['SME_MODE_TUP']=tuple(sme_abund[1].data['MODE'].byteswap().newbyteorder())\n",
    "smedata['SME_ABUND_TUP']=tuple(sme_abund[1].data['ABUND'].byteswap().newbyteorder())\n",
    "smedata['SME_EABUND_TUP']=tuple(sme_abund[1].data['E_ABUND'].byteswap().newbyteorder())\n",
    "smedata['SME_AFLAG_TUP']=tuple(sme_abund[1].data['AFLAG'].byteswap().newbyteorder())\n",
    "smedata['SME_ALOG_TUP']=tuple(sme_abund[1].data['ALOG'].byteswap().newbyteorder())\n",
    "smedata['SME_TIME_TUP']=tuple(sme_abund[1].data['TIME'].byteswap().newbyteorder())\n",
    "smedata['SME_SN_TUP']=tuple(sme_abund[1].data['SN'].byteswap().newbyteorder())\n",
    "smedata['SME_CHI_TUP']=tuple(sme_abund[1].data['CHI'].byteswap().newbyteorder())\n",
    "smedata['SME_ITER_TUP']=tuple(sme_abund[1].data['ITER'].byteswap().newbyteorder())"
   ]
  },
  {
   "cell_type": "markdown",
   "metadata": {},
   "source": [
    "Iterates through the various elements to extract the information from the various tuples and store it in an individual \n",
    "dataframe column. "
   ]
  },
  {
   "cell_type": "code",
   "execution_count": 5,
   "metadata": {
    "collapsed": true
   },
   "outputs": [],
   "source": [
    "## Currently the abundances are not quite right; they haven't been shifted to solar abundance. Need to adjust them based on values Ly sent me \n",
    "modes=['Sp', 'Fe', 'Li','C','O','Na','Mg','Al6697','Al7836','Si','K','Ca','Sc','Ti','V','Cr','Mn','Co','Ni','Cu','Zn','Y','Zr','Ba5854','Ba6497','La','Nd','Eu','Ru','Ce','Rb','Sr','Sm','Mo']\n",
    "solar_abund=[0.,0.,-0.80,0.01,0.23,0.09,0.09,0.16,0.17,-0.02,0.49,-0.17,-0.05,0.00,0.12,0.08,0.05,-0.29,0.08,-0.08,-0.16,-0.35,-0.14,-0.18,-0.26,0.07,0.23,0.02,-0.29,0.31,0.00,0.25,0.00,0.27]"
   ]
  },
  {
   "cell_type": "code",
   "execution_count": 6,
   "metadata": {
    "collapsed": true
   },
   "outputs": [],
   "source": [
    "for i in range(len(sme_abund[1].data['SN'][0])): \n",
    "    columnname=sme_abund[1].data['MODE'][0][i].strip()\n",
    "    if (columnname!=\"\"): \n",
    "        solar_temp=solar_abund[i]\n",
    "        smedata[columnname+'_ABUND']=sme_abund[1].data['ABUND'][:,i].byteswap().newbyteorder()-solar_temp\n",
    "        smedata[columnname+'_EABUND']=sme_abund[1].data['E_ABUND'][:,i].byteswap().newbyteorder()\n",
    "        smedata[columnname+'_AFLAG']=sme_abund[1].data['AFLAG'][:,i].byteswap().newbyteorder()\n",
    "        smedata[columnname+'_ALOG']=sme_abund[1].data['ALOG'][:,i].byteswap().newbyteorder()\n",
    "        smedata[columnname+'_TIME']=sme_abund[1].data['TIME'][:,i].byteswap().newbyteorder()\n",
    "        smedata[columnname+'_ITER']=sme_abund[1].data['ITER'][:,i].byteswap().newbyteorder()\n",
    "        smedata[columnname+'_SN']=sme_abund[1].data['SN'][:,i].byteswap().newbyteorder()\n",
    "        smedata[columnname+'_CHI']=sme_abund[1].data['CHI'][:,i].byteswap().newbyteorder()"
   ]
  },
  {
   "cell_type": "code",
   "execution_count": 7,
   "metadata": {
    "collapsed": false
   },
   "outputs": [],
   "source": [
    "## Only want to combine abundances where the AFLAG is set to 0 \n",
    "smedata['mgtest']=smedata['Mg_ABUND']\n",
    "smedata['emgtest']=smedata['Mg_EABUND']\n",
    "smedata.loc[np.where(smedata['Mg_AFLAG']!=0)[0], 'mgtest']=np.nan\n",
    "smedata.loc[np.where(smedata['Mg_AFLAG']!=0)[0], 'emgtest']=np.nan\n",
    "\n",
    "smedata['titest']=smedata['Ti_ABUND']\n",
    "smedata['etitest']=smedata['Ti_EABUND']\n",
    "smedata.loc[np.where(smedata['Ti_AFLAG']!=0)[0], 'titest']=np.nan\n",
    "smedata.loc[np.where(smedata['Ti_AFLAG']!=0)[0], 'etitest']=np.nan\n",
    "\n",
    "smedata['sitest']=smedata['Si_ABUND']\n",
    "smedata['esitest']=smedata['Si_EABUND']\n",
    "smedata.loc[np.where(smedata['Si_AFLAG']!=0)[0], 'sitest']=np.nan\n",
    "smedata.loc[np.where(smedata['Si_AFLAG']!=0)[0], 'esitest']=np.nan\n"
   ]
  },
  {
   "cell_type": "code",
   "execution_count": 8,
   "metadata": {
    "collapsed": false
   },
   "outputs": [],
   "source": [
    "## Have to recalculate the alpha/fe values because the Mg, Ti, and Si values have changed with solar abundance shifts\n",
    "temp1=np.nansum([(smedata['mgtest']/smedata['emgtest']**2.),(smedata['titest']/smedata['etitest']**2.),(smedata['sitest']/smedata['esitest']**2.)], axis=0)\n",
    "temp2=np.nansum([(1./smedata['emgtest']**2),(1./smedata['etitest']**2),(1./smedata['esitest']**2)], axis=0)\n",
    "smedata['alpha_fe_updated']=temp1/temp2\n",
    "\n",
    "temp3=np.sqrt(1./temp2)\n",
    "smedata['ealpha_fe_updated']=temp3"
   ]
  },
  {
   "cell_type": "code",
   "execution_count": 9,
   "metadata": {
    "collapsed": true
   },
   "outputs": [],
   "source": [
    "smedata['a1test']=smedata['Al6697_ABUND']\n",
    "smedata['ea1test']=smedata['Al6697_EABUND']\n",
    "smedata.loc[np.where(smedata['Al6697_AFLAG']!=0)[0], 'a1test']=np.nan\n",
    "smedata.loc[np.where(smedata['Al6697_AFLAG']!=0)[0], 'ea1test']=np.nan\n",
    "\n",
    "smedata['a2test']=smedata['Al7836_ABUND']\n",
    "smedata['ea2test']=smedata['Al7836_EABUND']\n",
    "smedata.loc[np.where(smedata['Al7836_AFLAG']!=0)[0], 'a2test']=np.nan\n",
    "smedata.loc[np.where(smedata['Al7836_AFLAG']!=0)[0], 'ea2test']=np.nan\n"
   ]
  },
  {
   "cell_type": "code",
   "execution_count": 10,
   "metadata": {
    "collapsed": true
   },
   "outputs": [],
   "source": [
    "## Calculate a combined value for Al. \n",
    "temp1=np.nansum([(smedata['a1test']/smedata['ea1test']**2.),(smedata['a2test']/smedata['ea2test']**2.)], axis=0)\n",
    "temp2=np.nansum([(1./smedata['ea1test']**2.),(1./smedata['ea2test']**2.)], axis=0)\n",
    "smedata['Al_ABUND']=temp1/temp2\n",
    "\n",
    "temp3=np.sqrt(1./temp2)\n",
    "smedata['Al_EABUND']=temp3\n"
   ]
  },
  {
   "cell_type": "code",
   "execution_count": 11,
   "metadata": {
    "collapsed": true
   },
   "outputs": [],
   "source": [
    "smedata['b1test']=smedata['Ba5854_ABUND']\n",
    "smedata['eb1test']=smedata['Ba5854_EABUND']\n",
    "smedata.loc[np.where(smedata['Ba5854_AFLAG']!=0)[0], 'b1test']=np.nan\n",
    "smedata.loc[np.where(smedata['Ba5854_AFLAG']!=0)[0], 'eb1test']=np.nan\n",
    "\n",
    "smedata['b2test']=smedata['Ba6497_ABUND']\n",
    "smedata['eb2test']=smedata['Ba6497_EABUND']\n",
    "smedata.loc[np.where(smedata['Ba6497_AFLAG']!=0)[0], 'b2test']=np.nan\n",
    "smedata.loc[np.where(smedata['Ba6497_AFLAG']!=0)[0], 'eb2test']=np.nan\n"
   ]
  },
  {
   "cell_type": "code",
   "execution_count": 12,
   "metadata": {
    "collapsed": true
   },
   "outputs": [],
   "source": [
    "## Calculate a combined value for Ba\n",
    "temp1=np.nansum([(smedata['b1test']/smedata['eb1test']**2.),(smedata['b2test']/smedata['eb2test']**2.)], axis=0)\n",
    "temp2=np.nansum([(1./smedata['eb1test']**2.),(1./smedata['eb2test']**2.)], axis=0)\n",
    "smedata['Ba_ABUND']=temp1/temp2\n",
    "\n",
    "temp3=np.sqrt(1./temp2)\n",
    "smedata['Ba_EABUND']=temp3"
   ]
  },
  {
   "cell_type": "code",
   "execution_count": 13,
   "metadata": {
    "collapsed": true
   },
   "outputs": [],
   "source": [
    "smedata['al_aflag']=np.nan\n",
    "smedata['al_chi']=np.nan\n",
    "smedata['al_sn']=np.nan\n",
    "smedata['al_iter']=np.nan\n",
    "smedata['al_time']=np.nan\n",
    "smedata['al_alog']=np.nan\n",
    "\n",
    "smedata['ba_aflag']=np.nan\n",
    "smedata['ba_chi']=np.nan\n",
    "smedata['ba_sn']=np.nan\n",
    "smedata['ba_iter']=np.nan\n",
    "smedata['ba_time']=np.nan\n",
    "smedata['ba_alog']=np.nan\n"
   ]
  },
  {
   "cell_type": "markdown",
   "metadata": {},
   "source": [
    "Want to merge with information from IRAF output table. "
   ]
  },
  {
   "cell_type": "code",
   "execution_count": 14,
   "metadata": {
    "collapsed": true
   },
   "outputs": [],
   "source": [
    "iraf_data=pd.read_csv(\"/Users/kschles/Documents/GALAH/iraf_v5.1/iraf_dr51_new_05042016.csv\")"
   ]
  },
  {
   "cell_type": "code",
   "execution_count": 15,
   "metadata": {
    "collapsed": true
   },
   "outputs": [],
   "source": [
    "## The GUESS values are often set to 999. or 9999. rather than null. So I need to adjust this. \n",
    "iraf_data.loc[np.where(iraf_data['rv_c2_guess'].astype(float)==999.)[0],'rv_c2_guess']=np.nan"
   ]
  },
  {
   "cell_type": "code",
   "execution_count": 16,
   "metadata": {
    "collapsed": false
   },
   "outputs": [],
   "source": [
    "smedata.rename(columns={'OBJECT' : 'sobject_id'}, inplace=True)\n",
    "smedata.rename(columns=lambda x: x.lower(), inplace=True)"
   ]
  },
  {
   "cell_type": "code",
   "execution_count": 17,
   "metadata": {
    "collapsed": false
   },
   "outputs": [],
   "source": [
    "wg4data=pd.merge(iraf_data,smedata,how='right',on=['sobject_id'])"
   ]
  },
  {
   "cell_type": "code",
   "execution_count": 18,
   "metadata": {
    "collapsed": true
   },
   "outputs": [],
   "source": [
    "# Put all column names into lower case. \n",
    "wg4data.rename(columns=lambda x: x.lower(), inplace=True)"
   ]
  },
  {
   "cell_type": "code",
   "execution_count": 19,
   "metadata": {
    "collapsed": false
   },
   "outputs": [],
   "source": [
    "## Have this because not every column that will be output has information right now. \n",
    "wg4data['placeholder']=[np.nan for i in range(len(wg4data))]"
   ]
  },
  {
   "cell_type": "code",
   "execution_count": 20,
   "metadata": {
    "collapsed": true
   },
   "outputs": [],
   "source": [
    "wg4data['pipeline']=['iraf_5.1' for i in range(len(wg4data))]\n",
    "wg4data['sme_vers']=['SME-galah_ab33' for i in range(len(wg4data))]"
   ]
  },
  {
   "cell_type": "code",
   "execution_count": 21,
   "metadata": {
    "collapsed": false
   },
   "outputs": [],
   "source": [
    "## Output to FITS file \n",
    "\n",
    "## Target Information\n",
    "col01=fits.Column(name='sobject_id', format='K15', null=-1, array=wg4data['sobject_id'])\n",
    "col02=fits.Column(name='galah_id',format='K15', null=-1, array=wg4data['galah_id_x'].astype(int))\n",
    "col03=fits.Column(name='ra',format='F',unit='deg', array=wg4data['ra_x']) # need to crossmatch with other files\n",
    "col04=fits.Column(name='dec',format='F',unit='deg', array=wg4data['dec_x'])\n",
    "col05=fits.Column(name='a_k',format='E',unit='', array=wg4data['placeholder'])\n",
    "col06=fits.Column(name='ebv',format='E',unit='mag', array=wg4data['ebv'])\n",
    "col07=fits.Column(name='red_pipeline', format='A10', array=wg4data['red_vers'])\n",
    "col08=fits.Column(name='red_flags', format='E', array=wg4data['red_flag'])\n",
    "## Stellar Parameters from SME (when available)\n",
    "## Currently, values in table come from The Cannon, so leaving this blank\n",
    "col09=fits.Column(name='teff_sme',format='E',unit='K', array=wg4data['placeholder'])\n",
    "col10=fits.Column(name='e_teff_sme',format='E',unit='K', array=wg4data['e_teff'])\n",
    "col11=fits.Column(name='logg_sme',format='E', unit='', array=wg4data['placeholder'])\n",
    "col12=fits.Column(name='e_logg_sme',format='E', unit='', array=wg4data['e_logg'])\n",
    "col13=fits.Column(name='feh_sme',format='E', unit='', array=wg4data['placeholder'])\n",
    "col14=fits.Column(name='e_feh_sme',format='E', unit='', array=wg4data['e_feh'])\n",
    "col15=fits.Column(name='alpha_fe_sme',format='E', unit='', array=wg4data['alpha_fe_updated'])\n",
    "col16=fits.Column(name='e_alpha_fe_sme',format='E', unit='', array=wg4data['ealpha_fe_updated'])\n",
    "col17=fits.Column(name='flag_sme',format='5A', unit='', array=wg4data['placeholder'])\n",
    "col18=fits.Column(name='vers_sme',format='20A', array=wg4data['sme_vers'])\n",
    "col19=fits.Column(name='rv_sme',format='E', unit='km/s', array=wg4data['vel'])\n",
    "col20=fits.Column(name='e_rv_sme',format='E', unit='km/s', array=wg4data['e_vel'])\n",
    "col21=fits.Column(name='vsini_sme',format='E', unit='km/s', array=wg4data['vsini'])\n",
    "col22=fits.Column(name='e_vsini_sme',format='E', unit='km/s', array=wg4data['e_vsini'])"
   ]
  },
  {
   "cell_type": "code",
   "execution_count": 22,
   "metadata": {
    "collapsed": false
   },
   "outputs": [],
   "source": [
    "cols=[col01,col02,col03,col04,col05,col06,col07,col08,col09,col10,\\\n",
    "      col11,col12,col13,col14,col15,col16,col17,col18,col19,col20,\\\n",
    "      col21,col22]"
   ]
  },
  {
   "cell_type": "code",
   "execution_count": 23,
   "metadata": {
    "collapsed": false
   },
   "outputs": [],
   "source": [
    "## Remove modes Ru, Mo, Sm, Sr, Ce, and Zr from the results table\n",
    "output_modes=['fe', 'li','c','o','na','mg','al','si','k','ca','sc','ti','v','cr','mn','co','ni','cu','zn','y','ba','la','nd','eu','rb']"
   ]
  },
  {
   "cell_type": "code",
   "execution_count": 24,
   "metadata": {
    "collapsed": false
   },
   "outputs": [],
   "source": [
    "## Output information for each SME abundance individually\n",
    "cols_ind=cols\n",
    "\n",
    "output_col=['_abund_sme', '_e_abund_sme', '_aflag_sme', '_chi_sme', '_sn_sme', \\\n",
    "            '_iter_sme', '_time_sme', '_alog_sme']\n",
    "input_col=['_abund', '_eabund', '_aflag', '_chi', '_sn', '_iter', '_time', '_alog']\n",
    "\n",
    "for i in range(len(output_modes)):\n",
    "    columnname=output_modes[i]\n",
    "    if (columnname!=''): \n",
    "        for k in range(len(output_col)):\n",
    "            output=columnname+output_col[k]\n",
    "            input=columnname+input_col[k]\n",
    "            if ((output_col[k]=='_iter_sme') | (output_col[k]=='_aflag_sme') | \\\n",
    "                (output_col[k]=='_alog_sme')): \n",
    "                cols_ind.append(fits.Column(name=output, format='I', array=wg4data[input]))\n",
    "            else: \n",
    "                cols_ind.append(fits.Column(name=output, format='E', array=wg4data[input]))\n"
   ]
  },
  {
   "cell_type": "code",
   "execution_count": 25,
   "metadata": {
    "collapsed": false
   },
   "outputs": [],
   "source": [
    "## Write out FITS file with abundance information for each feature as its own column\n",
    "new_cols = fits.ColDefs(cols_ind)\n",
    "tbhdu=fits.BinTableHDU.from_columns(new_cols)\n",
    "tbhdu.writeto('wg4_04292016/sobject_iraf_sme_1.1_k2.fits')"
   ]
  }
 ],
 "metadata": {
  "kernelspec": {
   "display_name": "Python 2",
   "language": "python",
   "name": "python2"
  },
  "language_info": {
   "codemirror_mode": {
    "name": "ipython",
    "version": 2
   },
   "file_extension": ".py",
   "mimetype": "text/x-python",
   "name": "python",
   "nbconvert_exporter": "python",
   "pygments_lexer": "ipython2",
   "version": "2.7.6"
  }
 },
 "nbformat": 4,
 "nbformat_minor": 0
}
