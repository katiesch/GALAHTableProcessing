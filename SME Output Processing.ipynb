{
 "cells": [
  {
   "cell_type": "code",
   "execution_count": 109,
   "metadata": {
    "collapsed": true
   },
   "outputs": [],
   "source": [
    "import pyfits \n",
    "import pandas as pd"
   ]
  },
  {
   "cell_type": "markdown",
   "metadata": {},
   "source": [
    "Reads in the abundance output from SME and produces a data frame of the values. Currently the abundances and associated quality indicators are organised as tuples; this code splits them all up to be organised by element. "
   ]
  },
  {
   "cell_type": "code",
   "execution_count": 110,
   "metadata": {
    "collapsed": false
   },
   "outputs": [],
   "source": [
    "smedata=pd.DataFrame()\n",
    "\n",
    "sme_abund=pyfits.open('/Users/kschles/Documents/GALAH/wg4output/GALAH_K2.fits')\n",
    "\n",
    "smedata['OBJECT']=sme_abund[1].data['OBJECT']\n",
    "smedata['GALAH_ID']=sme_abund[1].data['GALAH_ID']\n",
    "smedata['RA']=sme_abund[1].data['RA']\n",
    "smedata['DEC']=sme_abund[1].data['DEC']\n",
    "smedata['VEL']=sme_abund[1].data['VEL']\n",
    "smedata['E_VEL']=sme_abund[1].data['E_VEL']\n",
    "smedata['TEFF']=sme_abund[1].data['TEFF']\n",
    "smedata['E_TEFF']=sme_abund[1].data['E_TEFF']\n",
    "smedata['LOGG']=sme_abund[1].data['LOGG']\n",
    "smedata['E_LOGG']=sme_abund[1].data['E_LOGG']\n",
    "smedata['FEH']=sme_abund[1].data['FEH']\n",
    "smedata['E_FEH']=sme_abund[1].data['E_FEH']\n",
    "smedata['VMIC']=sme_abund[1].data['VMIC']\n",
    "smedata['E_VMIC']=sme_abund[1].data['E_VMIC']\n",
    "smedata['VMAC']=sme_abund[1].data['VMAC']\n",
    "smedata['E_VMAC']=sme_abund[1].data['E_VMAC']\n",
    "smedata['ABFE']=sme_abund[1].data['ABFE']         ## redundant with FE_ABUND\n",
    "smedata['E_ABFE']=sme_abund[1].data['E_ABFE']\n",
    "smedata['ALPHA_FE']=sme_abund[1].data['ALPHA_FE']\n",
    "smedata['E_ALPHA_FE']=sme_abund[1].data['E_ALPHA_FE']\n",
    "smedata['VRAD']=sme_abund[1].data['VRAD']         ## sme velocity shift? only one or one per feature? \n",
    "smedata['E_RAD']=sme_abund[1].data['E_VRAD']\n",
    "smedata['VSINI']=sme_abund[1].data['VSINI']\n",
    "smedata['E_VSINI']=sme_abund[1].data['E_VSINI']\n",
    "smedata['VMAC']=sme_abund[1].data['VMAC']\n",
    "smedata['E_VMAC']=sme_abund[1].data['E_VMAC']\n",
    "smedata['TECH']=sme_abund[1].data['TECH']\n",
    "smedata['SN_1']=sme_abund[1].data['SN'][:,0]\n",
    "smedata['SN_2']=sme_abund[1].data['SN'][:,1]\n",
    "smedata['SN_3']=sme_abund[1].data['SN'][:,2]\n",
    "smedata['SN_4']=sme_abund[1].data['SN'][:,3]\n",
    "\n"
   ]
  },
  {
   "cell_type": "markdown",
   "metadata": {},
   "source": [
    "The SME output lists various versions of the parameters. The first value is the initial, the second is the value from the first iteration, and the third is the value from the final iteration. \n",
    "\n",
    "For abundance estimates, the parameters are fixed, so these values are not meaningful. \n",
    "\n",
    "-> I'm interested that the adopted values don't seem to match these. e.g. smedata[['SFEH_ITER1', 'FEH']]"
   ]
  },
  {
   "cell_type": "code",
   "execution_count": 111,
   "metadata": {
    "collapsed": true
   },
   "outputs": [],
   "source": [
    "for i in range(len(yak[1].data['SVEL'][0])): \n",
    "    if i==0: \n",
    "        descrip='_INIT'\n",
    "    if i==1: \n",
    "        descrip='_ITER1'\n",
    "    if i==2:\n",
    "        descrip='_FITER'\n",
    "        \n",
    "    columnname1='SVEL'+descrip\n",
    "    smedata[columnname1]=sme_abund[1].data['SVEL'][:,i]  \n",
    "    columnname2='STEFF'+descrip\n",
    "    smedata[columnname2]=sme_abund[1].data['STEFF'][:,i]  \n",
    "    columnname3='SFEH'+descrip\n",
    "    smedata[columnname3]=sme_abund[1].data['SFEH'][:,i]  \n",
    "    columnname4='SLOGG'+descrip\n",
    "    smedata[columnname4]=sme_abund[1].data['SLOGG'][:,i]   \n",
    "    columnname5='SVSINI'+descrip\n",
    "    smedata[columnname5]=sme_abund[1].data['SVSINI'][:,i]  \n",
    "   "
   ]
  },
  {
   "cell_type": "markdown",
   "metadata": {},
   "source": [
    "Iterates through the various elements to extract the information from the various tuples and store it in an individual \n",
    "dataframe column. "
   ]
  },
  {
   "cell_type": "code",
   "execution_count": 112,
   "metadata": {
    "collapsed": true
   },
   "outputs": [],
   "source": [
    "for i in range(len(yak[1].data['SN'][0])): \n",
    "    columnname=yak[1].data['MODE'][0][i]\n",
    "    if (columnname!=\"\"): \n",
    "        smedata[columnname+'_ABUND']=sme_abund[1].data['ABUND'][:,i]\n",
    "        smedata[columnname+'_EABUND']=sme_abund[1].data['E_ABUND'][:,i]\n",
    "        smedata[columnname+'_AFLAG']=sme_abund[1].data['AFLAG'][:,i]\n",
    "        smedata[columnname+'_ALOG']=sme_abund[1].data['ALOG'][:,i]\n",
    "        smedata[columnname+'_TIME']=sme_abund[1].data['TIME'][:,i]\n",
    "        smedata[columnname+'_ITER']=sme_abund[1].data['ITER'][:,i]\n",
    "        smedata[columnname+'_SN']=sme_abund[1].data['SN'][:,i]\n",
    "        smedata[columnname+'_CHI']=sme_abund[1].data['CHI'][:,i]"
   ]
  },
  {
   "cell_type": "code",
   "execution_count": 121,
   "metadata": {
    "collapsed": false
   },
   "outputs": [],
   "source": [
    "smedata.to_csv('/Users/kschles/Documents/GALAH/wg4output/GALAH_K2.csv',index=False)"
   ]
  },
  {
   "cell_type": "code",
   "execution_count": null,
   "metadata": {
    "collapsed": true
   },
   "outputs": [],
   "source": []
  }
 ],
 "metadata": {
  "kernelspec": {
   "display_name": "Python 2",
   "language": "python",
   "name": "python2"
  },
  "language_info": {
   "codemirror_mode": {
    "name": "ipython",
    "version": 2
   },
   "file_extension": ".py",
   "mimetype": "text/x-python",
   "name": "python",
   "nbconvert_exporter": "python",
   "pygments_lexer": "ipython2",
   "version": "2.7.6"
  }
 },
 "nbformat": 4,
 "nbformat_minor": 0
}
