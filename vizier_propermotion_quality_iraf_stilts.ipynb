{
 "cells": [
  {
   "cell_type": "code",
   "execution_count": 130,
   "metadata": {
    "collapsed": false
   },
   "outputs": [],
   "source": [
    "from astroquery.vizier import Vizier\n",
    "import astropy.units as u\n",
    "from astropy.coordinates import SkyCoord\n",
    "from astropy.io import ascii\n",
    "import pandas as pd\n",
    "import os\n",
    "from astropy.table import Table, Column, join, vstack\n",
    "import numpy as np\n",
    "import matplotlib.pyplot as plt\n",
    "import time\n",
    "#import seaborn as sns\n",
    "%matplotlib inline"
   ]
  },
  {
   "cell_type": "code",
   "execution_count": 109,
   "metadata": {
    "collapsed": false
   },
   "outputs": [],
   "source": [
    "data=Table.read(\"/Users/kschles/Documents/GALAH/HVS/update_08112015/sobject_iraf_general.fits\")"
   ]
  },
  {
   "cell_type": "code",
   "execution_count": 110,
   "metadata": {
    "collapsed": true
   },
   "outputs": [],
   "source": [
    "data2=data.to_pandas()"
   ]
  },
  {
   "cell_type": "code",
   "execution_count": 111,
   "metadata": {
    "collapsed": false
   },
   "outputs": [],
   "source": [
    "#Output smaller file to use to query USNO via STILTS and TAP\n",
    "data2[['sobject_id', 'ra', 'dec']].to_csv('propermotion_temp.csv', index=False)"
   ]
  },
  {
   "cell_type": "code",
   "execution_count": 61,
   "metadata": {
    "collapsed": false
   },
   "outputs": [
    {
     "data": {
      "text/plain": [
       "0"
      ]
     },
     "execution_count": 61,
     "metadata": {},
     "output_type": "execute_result"
    }
   ],
   "source": [
    "### Want to find all matches in USNO-B within 7\" of the target\n",
    "os.system('java -jar stilts.jar cdsskymatch cdstable=I/284/out find=all in=propermotion_temp.csv ifmt=csv ra=ra dec=dec radius=7 out=usnob_7as.csv')"
   ]
  },
  {
   "cell_type": "code",
   "execution_count": 112,
   "metadata": {
    "collapsed": false
   },
   "outputs": [],
   "source": [
    "## Read in the 7\" radius query and use it to identify nearest neighbors and matches. \n",
    "usnob=pd.read_csv('/Users/kschles/Documents/GALAH/propermotion/usnob_7as.csv')"
   ]
  },
  {
   "cell_type": "code",
   "execution_count": 113,
   "metadata": {
    "collapsed": false
   },
   "outputs": [],
   "source": [
    "usnob.loc[np.where(usnob['angDist']<=1.0)[0],'match']=1\n",
    "usnob.loc[np.where(((usnob['Bmag1']<22.) | (usnob['Bmag2']<22.)) & (usnob['angDist']>1.0))[0],'neighbor']=1"
   ]
  },
  {
   "cell_type": "code",
   "execution_count": 114,
   "metadata": {
    "collapsed": false
   },
   "outputs": [],
   "source": [
    "test=usnob.groupby(['sobject_id'])"
   ]
  },
  {
   "cell_type": "code",
   "execution_count": 115,
   "metadata": {
    "collapsed": false
   },
   "outputs": [],
   "source": [
    "prelim_quality=test.agg({'sobject_id': 'first', 'match' : np.sum, 'neighbor' : np.sum, 'angDist' : lambda x: min(x)})"
   ]
  },
  {
   "cell_type": "code",
   "execution_count": 116,
   "metadata": {
    "collapsed": true
   },
   "outputs": [],
   "source": [
    "prelim_quality['sobject_id']=prelim_quality['sobject_id'].astype(int)"
   ]
  },
  {
   "cell_type": "code",
   "execution_count": 117,
   "metadata": {
    "collapsed": true
   },
   "outputs": [],
   "source": [
    "pquality=Table.from_pandas(prelim_quality)"
   ]
  },
  {
   "cell_type": "code",
   "execution_count": 121,
   "metadata": {
    "collapsed": false
   },
   "outputs": [],
   "source": [
    "combo1=join(data,pquality[['sobject_id', 'match', 'neighbor']], keys='sobject_id', join_type='left')"
   ]
  },
  {
   "cell_type": "code",
   "execution_count": 127,
   "metadata": {
    "collapsed": false
   },
   "outputs": [],
   "source": [
    "ascii.write(data[usno_index[j-1]+1:usno_index[j]][['sobject_id', 'ra', 'dec']], 'test.csv', format='csv')"
   ]
  },
  {
   "cell_type": "code",
   "execution_count": 138,
   "metadata": {
    "collapsed": false
   },
   "outputs": [
    {
     "name": "stdout",
     "output_type": "stream",
     "text": [
      "0 Sat May  7 15:17:15 2016\n",
      "1750 Sat May  7 15:17:23 2016\n",
      "3500 Sat May  7 15:17:32 2016\n",
      "5250 Sat May  7 15:17:41 2016\n",
      "7000 Sat May  7 15:17:49 2016\n",
      "8750 Sat May  7 15:17:57 2016\n",
      "10500 Sat May  7 15:18:05 2016\n",
      "12250 Sat May  7 15:18:14 2016\n",
      "14000 Sat May  7 15:18:22 2016\n"
     ]
    }
   ],
   "source": [
    "usno_index=np.append([np.arange(0,len(data),1750)],[len(data)-1])\n",
    "#for j in range(1,len(usno_index)) :\n",
    "for j in range(1,10) :\n",
    "    print usno_index[j-1], time.ctime()\n",
    "    if (j!=1):\n",
    "        #data.loc[usno_index[j-1]+1:usno_index[j],['sobject_id', 'ra', 'dec']].to_csv('propermotion_temp.csv', index=False)\n",
    "        ascii.write(data[usno_index[j-1]+1:usno_index[j]][['sobject_id', 'ra', 'dec']],'propermotion_temp.csv', format='csv')\n",
    "    if (j==1): \n",
    "        #data.loc[usno_index[j-1]:usno_index[j],['sobject_id', 'ra', 'dec']].to_csv('propermotion_temp.csv', index=False)\n",
    "        ascii.write(data[usno_index[j-1]:usno_index[j]][['sobject_id', 'ra', 'dec']],'propermotion_temp.csv', format='csv')\n",
    "    temp=os.system('java -jar stilts.jar tapskymatch tapurl=http://dc.g-vo.org/tap taptable=usnob.data in=propermotion_temp.csv ifmt=csv inlon=ra inlat=dec out=usnob_2as_temp.fits taplon=RAJ2000 taplat=DEJ2000 sr=0.00050 find=each') \n",
    "    os.system('mv usnob_2as_temp.fits usnob_output/usnob_2as_'+str(j).zfill(3)+'.fits')\n"
   ]
  },
  {
   "cell_type": "code",
   "execution_count": 139,
   "metadata": {
    "collapsed": false
   },
   "outputs": [
    {
     "name": "stderr",
     "output_type": "stream",
     "text": [
      "WARNING: MergeConflictWarning: Cannot merge meta key 'DATE-HDU' types <type 'str'> and <type 'str'>, choosing DATE-HDU='2016-05-07T05:17:32' [astropy.utils.metadata]\n",
      "WARNING:astropy:MergeConflictWarning: Cannot merge meta key 'DATE-HDU' types <type 'str'> and <type 'str'>, choosing DATE-HDU='2016-05-07T05:17:32'\n",
      "WARNING: MergeConflictWarning: Cannot merge meta key 'DATE-HDU' types <type 'str'> and <type 'str'>, choosing DATE-HDU='2016-05-07T05:17:41' [astropy.utils.metadata]\n",
      "WARNING:astropy:MergeConflictWarning: Cannot merge meta key 'DATE-HDU' types <type 'str'> and <type 'str'>, choosing DATE-HDU='2016-05-07T05:17:41'\n",
      "WARNING: MergeConflictWarning: Cannot merge meta key 'DATE-HDU' types <type 'str'> and <type 'str'>, choosing DATE-HDU='2016-05-07T05:17:49' [astropy.utils.metadata]\n",
      "WARNING:astropy:MergeConflictWarning: Cannot merge meta key 'DATE-HDU' types <type 'str'> and <type 'str'>, choosing DATE-HDU='2016-05-07T05:17:49'\n",
      "WARNING: MergeConflictWarning: Cannot merge meta key 'DATE-HDU' types <type 'str'> and <type 'str'>, choosing DATE-HDU='2016-05-07T05:17:57' [astropy.utils.metadata]\n",
      "WARNING:astropy:MergeConflictWarning: Cannot merge meta key 'DATE-HDU' types <type 'str'> and <type 'str'>, choosing DATE-HDU='2016-05-07T05:17:57'\n",
      "WARNING: MergeConflictWarning: Cannot merge meta key 'DATE-HDU' types <type 'str'> and <type 'str'>, choosing DATE-HDU='2016-05-07T05:18:05' [astropy.utils.metadata]\n",
      "WARNING:astropy:MergeConflictWarning: Cannot merge meta key 'DATE-HDU' types <type 'str'> and <type 'str'>, choosing DATE-HDU='2016-05-07T05:18:05'\n",
      "WARNING: MergeConflictWarning: Cannot merge meta key 'DATE-HDU' types <type 'str'> and <type 'str'>, choosing DATE-HDU='2016-05-07T05:18:13' [astropy.utils.metadata]\n",
      "WARNING:astropy:MergeConflictWarning: Cannot merge meta key 'DATE-HDU' types <type 'str'> and <type 'str'>, choosing DATE-HDU='2016-05-07T05:18:13'\n",
      "WARNING: MergeConflictWarning: Cannot merge meta key 'DATE-HDU' types <type 'str'> and <type 'str'>, choosing DATE-HDU='2016-05-07T05:18:22' [astropy.utils.metadata]\n",
      "WARNING:astropy:MergeConflictWarning: Cannot merge meta key 'DATE-HDU' types <type 'str'> and <type 'str'>, choosing DATE-HDU='2016-05-07T05:18:22'\n",
      "WARNING: MergeConflictWarning: Cannot merge meta key 'DATE-HDU' types <type 'str'> and <type 'str'>, choosing DATE-HDU='2016-05-07T05:18:31' [astropy.utils.metadata]\n",
      "WARNING:astropy:MergeConflictWarning: Cannot merge meta key 'DATE-HDU' types <type 'str'> and <type 'str'>, choosing DATE-HDU='2016-05-07T05:18:31'\n"
     ]
    }
   ],
   "source": [
    "# Read in and combine the USNO-B files created using TAP\n",
    "#for j in range(1,len(usno_index)) :\n",
    "for j in range(1,10) :\n",
    "    filename='usnob_output/usnob_2as_'+str(j).zfill(3)+'.fits'\n",
    "    temp=Table.read(filename)\n",
    "    if j==1: \n",
    "        usnob_best=temp\n",
    "    if j>1: \n",
    "        usnob_best=vstack([usnob_best, temp])"
   ]
  },
  {
   "cell_type": "code",
   "execution_count": 164,
   "metadata": {
    "collapsed": true
   },
   "outputs": [],
   "source": [
    "combo=join(combo1,usnob_best[['sobject_id', 'fit_ra', 'fit_de', 'ndet', 'sep_arcsec']], \\\n",
    "           keys='sobject_id', join_type='left')"
   ]
  },
  {
   "cell_type": "code",
   "execution_count": 157,
   "metadata": {
    "collapsed": false
   },
   "outputs": [
    {
     "data": {
      "text/html": [
       "&lt;Table masked=True length=0&gt;\n",
       "<table id=\"table4783406416\">\n",
       "<thead><tr><th>sobject_id</th><th>ra</th><th>dec</th></tr></thead>\n",
       "<thead><tr><th></th><th>deg</th><th>deg</th></tr></thead>\n",
       "<thead><tr><th>int64</th><th>float64</th><th>float64</th></tr></thead>\n",
       "</table>"
      ],
      "text/plain": [
       "<Table masked=True length=0>\n",
       "sobject_id    ra     dec  \n",
       "             deg     deg  \n",
       "  int64    float64 float64\n",
       "---------- ------- -------"
      ]
     },
     "execution_count": 157,
     "metadata": {},
     "output_type": "execute_result"
    }
   ],
   "source": [
    "# There should be no rows here! --> ISSUE WITH ISNAN AND NDET WITH ASTROPY TABLE STRUCTURE\n",
    "combo[np.where((combo['match']>=1) & (np.isnan(combo['ndet'])==True))[0]]['sobject_id', 'ra', 'dec']"
   ]
  },
  {
   "cell_type": "code",
   "execution_count": 166,
   "metadata": {
    "collapsed": false
   },
   "outputs": [],
   "source": [
    "#Adjust the fit_RA and fit_DE values from degrees to mas\n",
    "combo['fit_ra']=np.round(combo['fit_ra']*3600.*1000.)\n",
    "combo['fit_de']=np.round(combo['fit_de']*3600.*1000.)\n",
    "combo['fit_ra'].unit='mas'\n",
    "combo['fit_de'].unit='mas'"
   ]
  },
  {
   "cell_type": "code",
   "execution_count": 169,
   "metadata": {
    "collapsed": false
   },
   "outputs": [],
   "source": [
    "combo.write('sobject_iraf_pmquality.fits')"
   ]
  },
  {
   "cell_type": "code",
   "execution_count": null,
   "metadata": {
    "collapsed": true
   },
   "outputs": [],
   "source": []
  },
  {
   "cell_type": "code",
   "execution_count": null,
   "metadata": {
    "collapsed": true
   },
   "outputs": [],
   "source": []
  },
  {
   "cell_type": "code",
   "execution_count": null,
   "metadata": {
    "collapsed": true
   },
   "outputs": [],
   "source": []
  }
 ],
 "metadata": {
  "kernelspec": {
   "display_name": "Python 2",
   "language": "python",
   "name": "python2"
  },
  "language_info": {
   "codemirror_mode": {
    "name": "ipython",
    "version": 2
   },
   "file_extension": ".py",
   "mimetype": "text/x-python",
   "name": "python",
   "nbconvert_exporter": "python",
   "pygments_lexer": "ipython2",
   "version": "2.7.6"
  }
 },
 "nbformat": 4,
 "nbformat_minor": 0
}
