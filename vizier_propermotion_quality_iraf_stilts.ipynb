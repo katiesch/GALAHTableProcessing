{
 "cells": [
  {
   "cell_type": "code",
   "execution_count": 1,
   "metadata": {
    "collapsed": false
   },
   "outputs": [],
   "source": [
    "from astroquery.vizier import Vizier\n",
    "import astropy.units as u\n",
    "from astropy.coordinates import SkyCoord\n",
    "from astropy.io import ascii\n",
    "import pandas as pd\n",
    "import os\n",
    "from astropy.table import Table, Column\n",
    "import numpy as np\n",
    "import matplotlib.pyplot as plt\n",
    "import time\n",
    "#import seaborn as sns\n",
    "%matplotlib inline"
   ]
  },
  {
   "cell_type": "markdown",
   "metadata": {},
   "source": [
    "The USNO-B catalog is \"I/284\" "
   ]
  },
  {
   "cell_type": "code",
   "execution_count": 2,
   "metadata": {
    "collapsed": false
   },
   "outputs": [],
   "source": [
    "data=Table.read(\"/Users/kschles/Documents/GALAH/HVS/update_08112015/sobject_iraf_general.fits\")"
   ]
  },
  {
   "cell_type": "code",
   "execution_count": 3,
   "metadata": {
    "collapsed": true
   },
   "outputs": [],
   "source": [
    "data=data.to_pandas()"
   ]
  },
  {
   "cell_type": "code",
   "execution_count": 4,
   "metadata": {
    "collapsed": false
   },
   "outputs": [],
   "source": [
    "#Output smaller file to use to query USNO via STILTS and TAP\n",
    "data[['sobject_id', 'ra', 'dec']].to_csv('propermotion_temp.csv', index=False)"
   ]
  },
  {
   "cell_type": "code",
   "execution_count": 5,
   "metadata": {
    "collapsed": false
   },
   "outputs": [
    {
     "data": {
      "text/plain": [
       "0"
      ]
     },
     "execution_count": 5,
     "metadata": {},
     "output_type": "execute_result"
    }
   ],
   "source": [
    "### Want to find all matches in USNO-B within 7\" of the target\n",
    "os.system('java -jar stilts.jar cdsskymatch cdstable=I/284/out find=all in=propermotion_temp.csv ifmt=csv ra=ra dec=dec radius=7 out=usnob_7as.csv')"
   ]
  },
  {
   "cell_type": "code",
   "execution_count": 6,
   "metadata": {
    "collapsed": false
   },
   "outputs": [],
   "source": [
    "## Read in the 7\" radius query and use it to identify nearest neighbors and matches. \n",
    "usnob=pd.read_csv('/Users/kschles/Documents/GALAH/propermotion/usnob_7as.csv')"
   ]
  },
  {
   "cell_type": "code",
   "execution_count": 7,
   "metadata": {
    "collapsed": false
   },
   "outputs": [],
   "source": [
    "usnob.loc[np.where(usnob['angDist']<=1.0)[0], 'match']=1\n",
    "usnob.loc[np.where(((usnob['Bmag1']<22.) | (usnob['Bmag2']<22.)) & (usnob['angDist']>1.0))[0], 'neighbor']=1"
   ]
  },
  {
   "cell_type": "code",
   "execution_count": 8,
   "metadata": {
    "collapsed": false
   },
   "outputs": [],
   "source": [
    "test=usnob.groupby(['sobject_id'])"
   ]
  },
  {
   "cell_type": "code",
   "execution_count": 9,
   "metadata": {
    "collapsed": false
   },
   "outputs": [],
   "source": [
    "prelim_quality=test.agg({'sobject_id': 'first', 'match' : np.sum, 'neighbor' : np.sum, 'angDist' : lambda x: min(x)})"
   ]
  },
  {
   "cell_type": "code",
   "execution_count": 10,
   "metadata": {
    "collapsed": false
   },
   "outputs": [],
   "source": [
    "combo1=pd.merge(data, prelim_quality[['sobject_id', 'match', 'neighbor']], on=['sobject_id'], how='left')"
   ]
  },
  {
   "cell_type": "code",
   "execution_count": 13,
   "metadata": {
    "collapsed": false
   },
   "outputs": [
    {
     "name": "stdout",
     "output_type": "stream",
     "text": [
      "0 Fri May  6 16:54:12 2016\n",
      "1750 Fri May  6 16:54:22 2016\n",
      "3500 Fri May  6 16:54:30 2016\n",
      "5250 Fri May  6 16:54:37 2016\n",
      "7000 Fri May  6 16:54:45 2016\n",
      "8750 Fri May  6 16:54:51 2016\n",
      "10500 Fri May  6 16:54:59 2016\n",
      "12250 Fri May  6 16:55:06 2016\n",
      "14000 Fri May  6 16:55:14 2016\n"
     ]
    }
   ],
   "source": [
    "# Need to make a loop to query the usno-b catalog using tap because has issues with searches greater than 1750 items. \n",
    "\n",
    "usno_index=np.append([np.arange(0,len(data),1750)],[len(data)-1])\n",
    "#for j in range(1,len(usno_index)) :\n",
    "for j in range(1,10) :\n",
    "    print usno_index[j-1], time.ctime()\n",
    "    if (j!=1):\n",
    "        data.loc[usno_index[j-1]+1:usno_index[j],['sobject_id', 'ra', 'dec']].to_csv('propermotion_temp.csv', index=False)\n",
    "    if (j==1): \n",
    "        data.loc[usno_index[j-1]:usno_index[j],['sobject_id', 'ra', 'dec']].to_csv('propermotion_temp.csv', index=False)\n",
    "    temp=os.system('java -jar stilts.jar tapskymatch tapurl=http://dc.g-vo.org/tap taptable=usnob.data in=propermotion_temp.csv ifmt=csv inlon=ra inlat=dec out=usnob_2as_temp.csv taplon=RAJ2000 taplat=DEJ2000 sr=0.00050 find=each') \n",
    "    os.system('mv usnob_2as_temp.csv usnob_output/usnob_2as_'+str(j).zfill(3)+'.csv')\n"
   ]
  },
  {
   "cell_type": "code",
   "execution_count": 14,
   "metadata": {
    "collapsed": false
   },
   "outputs": [],
   "source": [
    "# Read in and combine the USNO-B files created using TAP\n",
    "#for j in range(1,len(usno_index)) :\n",
    "for j in range(1,10) :\n",
    "    filename='usnob_output/usnob_2as_'+str(j).zfill(3)+'.csv'\n",
    "    temp=pd.read_csv(filename)\n",
    "    if j==1: \n",
    "        usnob_best=temp\n",
    "    if j>1: \n",
    "        usnob_best=pd.concat([usnob_best, temp])"
   ]
  },
  {
   "cell_type": "code",
   "execution_count": 15,
   "metadata": {
    "collapsed": true
   },
   "outputs": [],
   "source": [
    "## Merge teh USNO-B data with the rest\n",
    "combo=pd.merge(combo1,usnob_best[['sobject_id', 'fit_ra', 'fit_de', 'ndet', 'sep_arcsec']],\\\n",
    "                            on=['sobject_id'], how='left')"
   ]
  },
  {
   "cell_type": "code",
   "execution_count": 16,
   "metadata": {
    "collapsed": false
   },
   "outputs": [
    {
     "data": {
      "text/html": [
       "<div style=\"max-height:1000px;max-width:1500px;overflow:auto;\">\n",
       "<table border=\"1\" class=\"dataframe\">\n",
       "  <thead>\n",
       "    <tr style=\"text-align: right;\">\n",
       "      <th></th>\n",
       "      <th>sobject_id</th>\n",
       "      <th>RADEG</th>\n",
       "      <th>DEDEG</th>\n",
       "    </tr>\n",
       "  </thead>\n",
       "  <tbody>\n",
       "    <tr>\n",
       "      <th>15751 </th>\n",
       "      <td> 1.403030e+14</td>\n",
       "      <td>NaN</td>\n",
       "      <td>NaN</td>\n",
       "    </tr>\n",
       "    <tr>\n",
       "      <th>15752 </th>\n",
       "      <td> 1.403030e+14</td>\n",
       "      <td>NaN</td>\n",
       "      <td>NaN</td>\n",
       "    </tr>\n",
       "    <tr>\n",
       "      <th>15753 </th>\n",
       "      <td> 1.403030e+14</td>\n",
       "      <td>NaN</td>\n",
       "      <td>NaN</td>\n",
       "    </tr>\n",
       "    <tr>\n",
       "      <th>15754 </th>\n",
       "      <td> 1.403030e+14</td>\n",
       "      <td>NaN</td>\n",
       "      <td>NaN</td>\n",
       "    </tr>\n",
       "    <tr>\n",
       "      <th>15755 </th>\n",
       "      <td> 1.403030e+14</td>\n",
       "      <td>NaN</td>\n",
       "      <td>NaN</td>\n",
       "    </tr>\n",
       "    <tr>\n",
       "      <th>15757 </th>\n",
       "      <td> 1.403030e+14</td>\n",
       "      <td>NaN</td>\n",
       "      <td>NaN</td>\n",
       "    </tr>\n",
       "    <tr>\n",
       "      <th>15758 </th>\n",
       "      <td> 1.403030e+14</td>\n",
       "      <td>NaN</td>\n",
       "      <td>NaN</td>\n",
       "    </tr>\n",
       "    <tr>\n",
       "      <th>15759 </th>\n",
       "      <td> 1.403030e+14</td>\n",
       "      <td>NaN</td>\n",
       "      <td>NaN</td>\n",
       "    </tr>\n",
       "    <tr>\n",
       "      <th>15760 </th>\n",
       "      <td> 1.403030e+14</td>\n",
       "      <td>NaN</td>\n",
       "      <td>NaN</td>\n",
       "    </tr>\n",
       "    <tr>\n",
       "      <th>15761 </th>\n",
       "      <td> 1.403030e+14</td>\n",
       "      <td>NaN</td>\n",
       "      <td>NaN</td>\n",
       "    </tr>\n",
       "    <tr>\n",
       "      <th>15762 </th>\n",
       "      <td> 1.403030e+14</td>\n",
       "      <td>NaN</td>\n",
       "      <td>NaN</td>\n",
       "    </tr>\n",
       "    <tr>\n",
       "      <th>15763 </th>\n",
       "      <td> 1.403030e+14</td>\n",
       "      <td>NaN</td>\n",
       "      <td>NaN</td>\n",
       "    </tr>\n",
       "    <tr>\n",
       "      <th>15764 </th>\n",
       "      <td> 1.403030e+14</td>\n",
       "      <td>NaN</td>\n",
       "      <td>NaN</td>\n",
       "    </tr>\n",
       "    <tr>\n",
       "      <th>15765 </th>\n",
       "      <td> 1.403030e+14</td>\n",
       "      <td>NaN</td>\n",
       "      <td>NaN</td>\n",
       "    </tr>\n",
       "    <tr>\n",
       "      <th>15766 </th>\n",
       "      <td> 1.403030e+14</td>\n",
       "      <td>NaN</td>\n",
       "      <td>NaN</td>\n",
       "    </tr>\n",
       "    <tr>\n",
       "      <th>15767 </th>\n",
       "      <td> 1.403030e+14</td>\n",
       "      <td>NaN</td>\n",
       "      <td>NaN</td>\n",
       "    </tr>\n",
       "    <tr>\n",
       "      <th>15768 </th>\n",
       "      <td> 1.403030e+14</td>\n",
       "      <td>NaN</td>\n",
       "      <td>NaN</td>\n",
       "    </tr>\n",
       "    <tr>\n",
       "      <th>15769 </th>\n",
       "      <td> 1.403030e+14</td>\n",
       "      <td>NaN</td>\n",
       "      <td>NaN</td>\n",
       "    </tr>\n",
       "    <tr>\n",
       "      <th>15770 </th>\n",
       "      <td> 1.403030e+14</td>\n",
       "      <td>NaN</td>\n",
       "      <td>NaN</td>\n",
       "    </tr>\n",
       "    <tr>\n",
       "      <th>15771 </th>\n",
       "      <td> 1.403030e+14</td>\n",
       "      <td>NaN</td>\n",
       "      <td>NaN</td>\n",
       "    </tr>\n",
       "    <tr>\n",
       "      <th>15772 </th>\n",
       "      <td> 1.403030e+14</td>\n",
       "      <td>NaN</td>\n",
       "      <td>NaN</td>\n",
       "    </tr>\n",
       "    <tr>\n",
       "      <th>15773 </th>\n",
       "      <td> 1.403030e+14</td>\n",
       "      <td>NaN</td>\n",
       "      <td>NaN</td>\n",
       "    </tr>\n",
       "    <tr>\n",
       "      <th>15774 </th>\n",
       "      <td> 1.403030e+14</td>\n",
       "      <td>NaN</td>\n",
       "      <td>NaN</td>\n",
       "    </tr>\n",
       "    <tr>\n",
       "      <th>15775 </th>\n",
       "      <td> 1.403030e+14</td>\n",
       "      <td>NaN</td>\n",
       "      <td>NaN</td>\n",
       "    </tr>\n",
       "    <tr>\n",
       "      <th>15776 </th>\n",
       "      <td> 1.403030e+14</td>\n",
       "      <td>NaN</td>\n",
       "      <td>NaN</td>\n",
       "    </tr>\n",
       "    <tr>\n",
       "      <th>15777 </th>\n",
       "      <td> 1.403030e+14</td>\n",
       "      <td>NaN</td>\n",
       "      <td>NaN</td>\n",
       "    </tr>\n",
       "    <tr>\n",
       "      <th>15778 </th>\n",
       "      <td> 1.403030e+14</td>\n",
       "      <td>NaN</td>\n",
       "      <td>NaN</td>\n",
       "    </tr>\n",
       "    <tr>\n",
       "      <th>15779 </th>\n",
       "      <td> 1.403030e+14</td>\n",
       "      <td>NaN</td>\n",
       "      <td>NaN</td>\n",
       "    </tr>\n",
       "    <tr>\n",
       "      <th>15780 </th>\n",
       "      <td> 1.403030e+14</td>\n",
       "      <td>NaN</td>\n",
       "      <td>NaN</td>\n",
       "    </tr>\n",
       "    <tr>\n",
       "      <th>15781 </th>\n",
       "      <td> 1.403030e+14</td>\n",
       "      <td>NaN</td>\n",
       "      <td>NaN</td>\n",
       "    </tr>\n",
       "    <tr>\n",
       "      <th>...</th>\n",
       "      <td>...</td>\n",
       "      <td>...</td>\n",
       "      <td>...</td>\n",
       "    </tr>\n",
       "    <tr>\n",
       "      <th>280936</th>\n",
       "      <td> 1.603280e+14</td>\n",
       "      <td>NaN</td>\n",
       "      <td>NaN</td>\n",
       "    </tr>\n",
       "    <tr>\n",
       "      <th>280937</th>\n",
       "      <td> 1.603280e+14</td>\n",
       "      <td>NaN</td>\n",
       "      <td>NaN</td>\n",
       "    </tr>\n",
       "    <tr>\n",
       "      <th>280938</th>\n",
       "      <td> 1.603280e+14</td>\n",
       "      <td>NaN</td>\n",
       "      <td>NaN</td>\n",
       "    </tr>\n",
       "    <tr>\n",
       "      <th>280939</th>\n",
       "      <td> 1.603280e+14</td>\n",
       "      <td>NaN</td>\n",
       "      <td>NaN</td>\n",
       "    </tr>\n",
       "    <tr>\n",
       "      <th>280940</th>\n",
       "      <td> 1.603280e+14</td>\n",
       "      <td>NaN</td>\n",
       "      <td>NaN</td>\n",
       "    </tr>\n",
       "    <tr>\n",
       "      <th>280942</th>\n",
       "      <td> 1.603280e+14</td>\n",
       "      <td>NaN</td>\n",
       "      <td>NaN</td>\n",
       "    </tr>\n",
       "    <tr>\n",
       "      <th>280943</th>\n",
       "      <td> 1.603280e+14</td>\n",
       "      <td>NaN</td>\n",
       "      <td>NaN</td>\n",
       "    </tr>\n",
       "    <tr>\n",
       "      <th>280944</th>\n",
       "      <td> 1.603280e+14</td>\n",
       "      <td>NaN</td>\n",
       "      <td>NaN</td>\n",
       "    </tr>\n",
       "    <tr>\n",
       "      <th>280945</th>\n",
       "      <td> 1.603280e+14</td>\n",
       "      <td>NaN</td>\n",
       "      <td>NaN</td>\n",
       "    </tr>\n",
       "    <tr>\n",
       "      <th>280946</th>\n",
       "      <td> 1.603280e+14</td>\n",
       "      <td>NaN</td>\n",
       "      <td>NaN</td>\n",
       "    </tr>\n",
       "    <tr>\n",
       "      <th>280947</th>\n",
       "      <td> 1.603280e+14</td>\n",
       "      <td>NaN</td>\n",
       "      <td>NaN</td>\n",
       "    </tr>\n",
       "    <tr>\n",
       "      <th>280949</th>\n",
       "      <td> 1.603280e+14</td>\n",
       "      <td>NaN</td>\n",
       "      <td>NaN</td>\n",
       "    </tr>\n",
       "    <tr>\n",
       "      <th>280950</th>\n",
       "      <td> 1.603280e+14</td>\n",
       "      <td>NaN</td>\n",
       "      <td>NaN</td>\n",
       "    </tr>\n",
       "    <tr>\n",
       "      <th>280951</th>\n",
       "      <td> 1.603280e+14</td>\n",
       "      <td>NaN</td>\n",
       "      <td>NaN</td>\n",
       "    </tr>\n",
       "    <tr>\n",
       "      <th>280952</th>\n",
       "      <td> 1.603280e+14</td>\n",
       "      <td>NaN</td>\n",
       "      <td>NaN</td>\n",
       "    </tr>\n",
       "    <tr>\n",
       "      <th>280953</th>\n",
       "      <td> 1.603280e+14</td>\n",
       "      <td>NaN</td>\n",
       "      <td>NaN</td>\n",
       "    </tr>\n",
       "    <tr>\n",
       "      <th>280954</th>\n",
       "      <td> 1.603280e+14</td>\n",
       "      <td>NaN</td>\n",
       "      <td>NaN</td>\n",
       "    </tr>\n",
       "    <tr>\n",
       "      <th>280955</th>\n",
       "      <td> 1.603280e+14</td>\n",
       "      <td>NaN</td>\n",
       "      <td>NaN</td>\n",
       "    </tr>\n",
       "    <tr>\n",
       "      <th>280956</th>\n",
       "      <td> 1.603280e+14</td>\n",
       "      <td>NaN</td>\n",
       "      <td>NaN</td>\n",
       "    </tr>\n",
       "    <tr>\n",
       "      <th>280957</th>\n",
       "      <td> 1.603280e+14</td>\n",
       "      <td>NaN</td>\n",
       "      <td>NaN</td>\n",
       "    </tr>\n",
       "    <tr>\n",
       "      <th>280959</th>\n",
       "      <td> 1.603280e+14</td>\n",
       "      <td>NaN</td>\n",
       "      <td>NaN</td>\n",
       "    </tr>\n",
       "    <tr>\n",
       "      <th>280962</th>\n",
       "      <td> 1.603280e+14</td>\n",
       "      <td>NaN</td>\n",
       "      <td>NaN</td>\n",
       "    </tr>\n",
       "    <tr>\n",
       "      <th>280963</th>\n",
       "      <td> 1.603280e+14</td>\n",
       "      <td>NaN</td>\n",
       "      <td>NaN</td>\n",
       "    </tr>\n",
       "    <tr>\n",
       "      <th>280964</th>\n",
       "      <td> 1.603280e+14</td>\n",
       "      <td>NaN</td>\n",
       "      <td>NaN</td>\n",
       "    </tr>\n",
       "    <tr>\n",
       "      <th>280966</th>\n",
       "      <td> 1.603280e+14</td>\n",
       "      <td>NaN</td>\n",
       "      <td>NaN</td>\n",
       "    </tr>\n",
       "    <tr>\n",
       "      <th>280967</th>\n",
       "      <td> 1.603280e+14</td>\n",
       "      <td>NaN</td>\n",
       "      <td>NaN</td>\n",
       "    </tr>\n",
       "    <tr>\n",
       "      <th>280968</th>\n",
       "      <td> 1.603280e+14</td>\n",
       "      <td>NaN</td>\n",
       "      <td>NaN</td>\n",
       "    </tr>\n",
       "    <tr>\n",
       "      <th>280969</th>\n",
       "      <td> 1.603280e+14</td>\n",
       "      <td>NaN</td>\n",
       "      <td>NaN</td>\n",
       "    </tr>\n",
       "    <tr>\n",
       "      <th>280970</th>\n",
       "      <td> 1.603280e+14</td>\n",
       "      <td>NaN</td>\n",
       "      <td>NaN</td>\n",
       "    </tr>\n",
       "    <tr>\n",
       "      <th>280973</th>\n",
       "      <td> 1.603280e+14</td>\n",
       "      <td>NaN</td>\n",
       "      <td>NaN</td>\n",
       "    </tr>\n",
       "  </tbody>\n",
       "</table>\n",
       "<p>249719 rows × 3 columns</p>\n",
       "</div>"
      ],
      "text/plain": [
       "          sobject_id  RADEG  DEDEG\n",
       "15751   1.403030e+14    NaN    NaN\n",
       "15752   1.403030e+14    NaN    NaN\n",
       "15753   1.403030e+14    NaN    NaN\n",
       "15754   1.403030e+14    NaN    NaN\n",
       "15755   1.403030e+14    NaN    NaN\n",
       "15757   1.403030e+14    NaN    NaN\n",
       "15758   1.403030e+14    NaN    NaN\n",
       "15759   1.403030e+14    NaN    NaN\n",
       "15760   1.403030e+14    NaN    NaN\n",
       "15761   1.403030e+14    NaN    NaN\n",
       "15762   1.403030e+14    NaN    NaN\n",
       "15763   1.403030e+14    NaN    NaN\n",
       "15764   1.403030e+14    NaN    NaN\n",
       "15765   1.403030e+14    NaN    NaN\n",
       "15766   1.403030e+14    NaN    NaN\n",
       "15767   1.403030e+14    NaN    NaN\n",
       "15768   1.403030e+14    NaN    NaN\n",
       "15769   1.403030e+14    NaN    NaN\n",
       "15770   1.403030e+14    NaN    NaN\n",
       "15771   1.403030e+14    NaN    NaN\n",
       "15772   1.403030e+14    NaN    NaN\n",
       "15773   1.403030e+14    NaN    NaN\n",
       "15774   1.403030e+14    NaN    NaN\n",
       "15775   1.403030e+14    NaN    NaN\n",
       "15776   1.403030e+14    NaN    NaN\n",
       "15777   1.403030e+14    NaN    NaN\n",
       "15778   1.403030e+14    NaN    NaN\n",
       "15779   1.403030e+14    NaN    NaN\n",
       "15780   1.403030e+14    NaN    NaN\n",
       "15781   1.403030e+14    NaN    NaN\n",
       "...              ...    ...    ...\n",
       "280936  1.603280e+14    NaN    NaN\n",
       "280937  1.603280e+14    NaN    NaN\n",
       "280938  1.603280e+14    NaN    NaN\n",
       "280939  1.603280e+14    NaN    NaN\n",
       "280940  1.603280e+14    NaN    NaN\n",
       "280942  1.603280e+14    NaN    NaN\n",
       "280943  1.603280e+14    NaN    NaN\n",
       "280944  1.603280e+14    NaN    NaN\n",
       "280945  1.603280e+14    NaN    NaN\n",
       "280946  1.603280e+14    NaN    NaN\n",
       "280947  1.603280e+14    NaN    NaN\n",
       "280949  1.603280e+14    NaN    NaN\n",
       "280950  1.603280e+14    NaN    NaN\n",
       "280951  1.603280e+14    NaN    NaN\n",
       "280952  1.603280e+14    NaN    NaN\n",
       "280953  1.603280e+14    NaN    NaN\n",
       "280954  1.603280e+14    NaN    NaN\n",
       "280955  1.603280e+14    NaN    NaN\n",
       "280956  1.603280e+14    NaN    NaN\n",
       "280957  1.603280e+14    NaN    NaN\n",
       "280959  1.603280e+14    NaN    NaN\n",
       "280962  1.603280e+14    NaN    NaN\n",
       "280963  1.603280e+14    NaN    NaN\n",
       "280964  1.603280e+14    NaN    NaN\n",
       "280966  1.603280e+14    NaN    NaN\n",
       "280967  1.603280e+14    NaN    NaN\n",
       "280968  1.603280e+14    NaN    NaN\n",
       "280969  1.603280e+14    NaN    NaN\n",
       "280970  1.603280e+14    NaN    NaN\n",
       "280973  1.603280e+14    NaN    NaN\n",
       "\n",
       "[249719 rows x 3 columns]"
      ]
     },
     "execution_count": 16,
     "metadata": {},
     "output_type": "execute_result"
    }
   ],
   "source": [
    "# There should be no rows here! \n",
    "combo.loc[np.where((combo['match']>=1) & (np.isnan(combo['ndet'])==True))[0],\\\n",
    "                   ['sobject_id', 'RADEG', 'DEDEG']]"
   ]
  },
  {
   "cell_type": "code",
   "execution_count": 18,
   "metadata": {
    "collapsed": false
   },
   "outputs": [],
   "source": [
    "#Adjust the fit_RA and fit_DE values from degrees to mas\n",
    "combo['fit_ra']=np.round(combo['fit_ra']*3600.*1000.)\n",
    "combo['fit_de']=np.round(combo['fit_de']*3600.*1000.)\n"
   ]
  },
  {
   "cell_type": "code",
   "execution_count": 19,
   "metadata": {
    "collapsed": true
   },
   "outputs": [],
   "source": [
    "combo_table=Table.from_pandas(combo)"
   ]
  },
  {
   "cell_type": "code",
   "execution_count": 29,
   "metadata": {
    "collapsed": false
   },
   "outputs": [],
   "source": [
    "combo_table['ra'].unit='deg'\n",
    "combo_table['dec'].unit='deg'\n",
    "combo_table['eff_midtexp'].unit='s'\n",
    "combo_table['eff_texp'].unit='s'\n",
    "combo_table['barycentric'].unit='km/s'\n",
    "combo_table['ebv'].unit='mag'\n",
    "combo_table['fit_ra'].unit='mas'\n",
    "combo_table['fit_de'].unit='mas'\n",
    "combo_table['sep_arcsec'].unit='as'\n",
    "\n",
    "combo_table['j_tmass'].unit='mag'\n",
    "combo_table['e_j_tmass'].unit='mag'\n",
    "combo_table['h_tmass'].unit='mag'\n",
    "combo_table['e_h_tmass'].unit='mag'\n",
    "combo_table['k_tmass'].unit='mag'\n",
    "combo_table['e_k_tmass'].unit='mag'\n",
    "\n",
    "combo_table['b_apass'].unit='mag'\n",
    "combo_table['e_b_apass'].unit='mag'\n",
    "combo_table['v_apass'].unit='mag'\n",
    "combo_table['e_v_apass'].unit='mag'\n",
    "combo_table['g_apass'].unit='mag'\n",
    "combo_table['e_g_apass'].unit='mag'\n",
    "combo_table['r_apass'].unit='mag'\n",
    "combo_table['e_r_apass'].unit='mag'\n",
    "combo_table['i_apass'].unit='mag'\n",
    "combo_table['e_i_apass'].unit='mag'\n",
    "\n",
    "combo_table['pmra_ucac4'].unit='mas/yr'\n",
    "combo_table['e_pmra_ucac4'].unit='mas/yr'\n",
    "combo_table['pmdec_ucac4'].unit='mas/yr'\n",
    "combo_table['e_pmdec_ucac4'].unit='mas/yr'"
   ]
  },
  {
   "cell_type": "code",
   "execution_count": 30,
   "metadata": {
    "collapsed": false
   },
   "outputs": [],
   "source": [
    "combo_table.write('sobject_iraf_pmquality.fits')"
   ]
  },
  {
   "cell_type": "code",
   "execution_count": 55,
   "metadata": {
    "collapsed": true
   },
   "outputs": [],
   "source": [
    "combo.to_csv('propermotion_quality_05062016.csv', index=False)"
   ]
  },
  {
   "cell_type": "code",
   "execution_count": null,
   "metadata": {
    "collapsed": true
   },
   "outputs": [],
   "source": []
  },
  {
   "cell_type": "code",
   "execution_count": null,
   "metadata": {
    "collapsed": true
   },
   "outputs": [],
   "source": []
  }
 ],
 "metadata": {
  "kernelspec": {
   "display_name": "Python 2",
   "language": "python",
   "name": "python2"
  },
  "language_info": {
   "codemirror_mode": {
    "name": "ipython",
    "version": 2
   },
   "file_extension": ".py",
   "mimetype": "text/x-python",
   "name": "python",
   "nbconvert_exporter": "python",
   "pygments_lexer": "ipython2",
   "version": "2.7.6"
  }
 },
 "nbformat": 4,
 "nbformat_minor": 0
}
