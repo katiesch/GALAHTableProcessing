{
 "cells": [
  {
   "cell_type": "code",
   "execution_count": 94,
   "metadata": {
    "collapsed": true
   },
   "outputs": [],
   "source": [
    "import pyfits \n",
    "import pandas as pd\n",
    "import numpy as np"
   ]
  },
  {
   "cell_type": "markdown",
   "metadata": {},
   "source": [
    "Need to read in the Cannon data to merge it with the information from SME"
   ]
  },
  {
   "cell_type": "code",
   "execution_count": 95,
   "metadata": {
    "collapsed": false
   },
   "outputs": [],
   "source": [
    "cannondata=pd.DataFrame()\n",
    "\n",
    "cannon_param=pyfits.open('/Users/kschles/Documents/GALAH/wg4output/GALAH_K2_Cannon_160316.fits')"
   ]
  },
  {
   "cell_type": "markdown",
   "metadata": {},
   "source": [
    "I designate the Cannon parameters from SME with 'C_'"
   ]
  },
  {
   "cell_type": "code",
   "execution_count": 96,
   "metadata": {
    "collapsed": false
   },
   "outputs": [],
   "source": [
    "#Have to adjust OBJECT to an int to ensure that things are merged correctly with SME data\n",
    "cannondata['OBJECT']=np.array(cannon_param[1].data['OBJECT']).byteswap().newbyteorder().astype(int)\n",
    "cannondata['C_GALAH_ID']=np.array(cannon_param[1].data['GALAH_ID']).byteswap().newbyteorder()\n",
    "cannondata['C_TEFF']=np.array(cannon_param[1].data['TEFF']).byteswap().newbyteorder()\n",
    "cannondata['C_LOGG']=np.array(cannon_param[1].data['LOGG']).byteswap().newbyteorder()\n",
    "cannondata['C_FEH']=np.array(cannon_param[1].data['FEH']).byteswap().newbyteorder()\n",
    "cannondata['C_ALPHA_FE']=np.array(cannon_param[1].data['ALPHA_FE']).byteswap().newbyteorder()\n",
    "cannondata['EBV']=np.array(cannon_param[1].data['EBV']).byteswap().newbyteorder()\n",
    "cannondata['C_VEL']=np.array(cannon_param[1].data['VEL']).byteswap().newbyteorder()\n",
    "cannondata['C_E_VEL']=np.array(cannon_param[1].data['E_VEL']).byteswap().newbyteorder()\n",
    "cannondata['C_CHI2']=np.array(cannon_param[1].data['CHI2']).byteswap().newbyteorder()\n",
    "\n"
   ]
  },
  {
   "cell_type": "markdown",
   "metadata": {},
   "source": [
    "Read in SME data. Alternatively, could just do this all as one quick and easy program. "
   ]
  },
  {
   "cell_type": "code",
   "execution_count": 97,
   "metadata": {
    "collapsed": true
   },
   "outputs": [],
   "source": [
    "smedata=pd.read_csv('/Users/kschles/Documents/GALAH/wg4output/GALAH_K2.csv')"
   ]
  },
  {
   "cell_type": "markdown",
   "metadata": {},
   "source": [
    "Merge the two tables together based on Object. The Object needs to be the same format for both tables. Currently set to int64. \n",
    "\n",
    "As the cannondata has many more entries than the smedata at the moment, I have left outer joined them. "
   ]
  },
  {
   "cell_type": "code",
   "execution_count": 100,
   "metadata": {
    "collapsed": false
   },
   "outputs": [],
   "source": [
    "wg4data=pd.merge(cannondata, smedata, how='left', on='OBJECT')"
   ]
  },
  {
   "cell_type": "code",
   "execution_count": 101,
   "metadata": {
    "collapsed": true
   },
   "outputs": [],
   "source": [
    "wg4data.to_csv('/Users/kschles/Documents/GALAH/wg4output/wg4_sme_cannon.csv')"
   ]
  },
  {
   "cell_type": "code",
   "execution_count": null,
   "metadata": {
    "collapsed": true
   },
   "outputs": [],
   "source": []
  }
 ],
 "metadata": {
  "kernelspec": {
   "display_name": "Python 2",
   "language": "python",
   "name": "python2"
  },
  "language_info": {
   "codemirror_mode": {
    "name": "ipython",
    "version": 2
   },
   "file_extension": ".py",
   "mimetype": "text/x-python",
   "name": "python",
   "nbconvert_exporter": "python",
   "pygments_lexer": "ipython2",
   "version": "2.7.6"
  }
 },
 "nbformat": 4,
 "nbformat_minor": 0
}
