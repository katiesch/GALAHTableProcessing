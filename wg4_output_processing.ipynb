{
 "cells": [
  {
   "cell_type": "code",
   "execution_count": 2,
   "metadata": {
    "collapsed": true
   },
   "outputs": [],
   "source": [
    "import pyfits \n",
    "import pandas as pd\n",
    "from astropy.io import fits\n",
    "import numpy as np\n",
    "from astropy.table import Table, join\n",
    "import math\n",
    "import astropy.units as u"
   ]
  },
  {
   "cell_type": "markdown",
   "metadata": {},
   "source": [
    "Reads in the data from SME and The Cannon. Combines them based on sobject_id"
   ]
  },
  {
   "cell_type": "code",
   "execution_count": 3,
   "metadata": {
    "collapsed": false
   },
   "outputs": [],
   "source": [
    "sme_abund=Table.read('/Users/kschles/Documents/GALAH/wg4output/wg4_04292016/sobject_iraf_sme_1.1_k2.fits', format='fits')"
   ]
  },
  {
   "cell_type": "code",
   "execution_count": 4,
   "metadata": {
    "collapsed": false
   },
   "outputs": [],
   "source": [
    "cannon_param=Table.read('/Users/kschles/Documents/GALAH/wg4output/wg4_04292016/sobject_iraf_cannon_1.1_k2.fits', format='fits')"
   ]
  },
  {
   "cell_type": "code",
   "execution_count": 5,
   "metadata": {
    "collapsed": false
   },
   "outputs": [],
   "source": [
    "wg4_combined=join(sme_abund, cannon_param[['sobject_id', 'teff_cannon', 'e_teff_cannon', 'logg_cannon', 'e_logg_cannon',\\\n",
    "                                   'feh_cannon','e_feh_cannon','alpha_fe_cannon','e_alpha_fe_cannon',\\\n",
    "                                   'chi2_cannon','flag_cannon','vers_cannon','rv_cannon','e_rv_cannon',\\\n",
    "                                   'ebv_cannon']], keys=['sobject_id'], join_type='right')"
   ]
  },
  {
   "cell_type": "markdown",
   "metadata": {},
   "source": [
    "Want to merge with information from IRAF output table to get GUESS info, etc. "
   ]
  },
  {
   "cell_type": "code",
   "execution_count": 6,
   "metadata": {
    "collapsed": true
   },
   "outputs": [],
   "source": [
    "iraf_data=pd.read_csv(\"/Users/kschles/Documents/GALAH/iraf_v5.1/iraf_dr51_new_05042016.csv\")\n",
    "## The GUESS values are often set to 999. or 9999. rather than null. So I need to adjust this. \n",
    "iraf_data.loc[np.where(iraf_data['rv_c2_guess'].astype(float)==999.)[0],'rv_c2_guess']=np.nan"
   ]
  },
  {
   "cell_type": "code",
   "execution_count": 6,
   "metadata": {
    "collapsed": false
   },
   "outputs": [
    {
     "data": {
      "text/plain": [
       "array(['sobject_id', 'galah_id', 'cob_id', 'pivot', 'field_id', 'ra',\n",
       "       'dec', 'ebv', 'barycentric', 'rv_c1_guess', 'rv_c2_guess',\n",
       "       'rv_c3_guess', 'rv_c4_guess', 'rv_guess', 'e_rv_guess',\n",
       "       'teff_guess', 'logg_guess', 'feh_guess', 'flag_guess',\n",
       "       'snr_c1_guess', 'snr_c2_guess', 'snr_c3_guess', 'snr_c4_guess',\n",
       "       'snr_c1_iraf', 'snr_c2_iraf', 'snr_c3_iraf', 'snr_c4_iraf',\n",
       "       'snr2_c1_iraf', 'snr2_c2_iraf', 'snr2_c3_iraf', 'snr2_c4_iraf',\n",
       "       'red_flag', 'red_vers'], dtype=object)"
      ]
     },
     "execution_count": 6,
     "metadata": {},
     "output_type": "execute_result"
    }
   ],
   "source": [
    "iraf_data.columns.values"
   ]
  },
  {
   "cell_type": "code",
   "execution_count": 7,
   "metadata": {
    "collapsed": false
   },
   "outputs": [],
   "source": [
    "iraf_data.rename(columns={'teff' : 'teff_guess', 'logg': 'logg_guess', \\\n",
    "                            'feh' : 'feh_guess', 'vmean' : 'rv_guess', 'vstd' : 'e_rv_guess'}, inplace=True)\n",
    "iraf_data['sobject_id']=iraf_data['sobject_id'].astype(int)"
   ]
  },
  {
   "cell_type": "code",
   "execution_count": 8,
   "metadata": {
    "collapsed": false
   },
   "outputs": [],
   "source": [
    "iraf_table=Table.from_pandas(iraf_data)"
   ]
  },
  {
   "cell_type": "code",
   "execution_count": 9,
   "metadata": {
    "collapsed": false
   },
   "outputs": [],
   "source": [
    "temp_output=join(wg4_combined, iraf_table[['sobject_id', 'field_id', 'teff_guess', 'logg_guess',\\\n",
    "                                           'feh_guess', 'rv_guess', 'e_rv_guess', 'flag_guess']], keys=['sobject_id'], join_type='left')"
   ]
  },
  {
   "cell_type": "code",
   "execution_count": 10,
   "metadata": {
    "collapsed": false
   },
   "outputs": [],
   "source": [
    "temp_output['vers_guess']='1.1'"
   ]
  },
  {
   "cell_type": "code",
   "execution_count": 16,
   "metadata": {
    "collapsed": false
   },
   "outputs": [],
   "source": [
    "temp_output['rv_guess'].unit='km/s'\n",
    "temp_output['e_rv_guess'].unit='km/s'\n",
    "temp_output['teff_guess'].unit='K'\n",
    "#temp_output['logg_guess'].unit=u.Unit(\"dex(cm/s2)\")\n",
    "temp_output['feh_guess'].unit='dex'"
   ]
  },
  {
   "cell_type": "code",
   "execution_count": 12,
   "metadata": {
    "collapsed": false
   },
   "outputs": [],
   "source": [
    "# Set column order \n",
    "## Remove modes Ru, Mo, Sm, Sr from the results table\n",
    "new_order=['sobject_id','galah_id','ra','dec','field_id', 'red_pipeline','red_flags','teff_cannon','e_teff_cannon','logg_cannon',\\\n",
    "           'e_logg_cannon','feh_cannon','e_feh_cannon','alpha_fe_cannon','e_alpha_fe_cannon','chi2_cannon','flag_cannon',\\\n",
    "           'vers_cannon','teff_sme','e_teff_sme','logg_sme','e_logg_sme','feh_sme','e_feh_sme','alpha_fe_sme',\\\n",
    "           'e_alpha_fe_sme','flag_sme','vers_sme', 'teff_guess', 'logg_guess', 'feh_guess',\\\n",
    "           'flag_guess', 'vers_guess', 'rv_guess', 'e_rv_guess', \\\n",
    "           'rv_cannon','e_rv_cannon','rv_sme','e_rv_sme','vsini_sme','e_vsini_sme',\\\n",
    "           'Fe_abund_sme','Fe_e_abund_sme','Fe_aflag_sme','Fe_chi_sme',\\\n",
    "           'Li_abund_sme','Li_e_abund_sme','Li_aflag_sme','Li_chi_sme',\\\n",
    "           'C_abund_sme','C_e_abund_sme','C_aflag_sme','C_chi_sme',\\\n",
    "           'O_abund_sme','O_e_abund_sme','O_aflag_sme','O_chi_sme',\\\n",
    "           'Na_abund_sme','Na_e_abund_sme','Na_aflag_sme','Na_chi_sme',\\\n",
    "           'Mg_abund_sme','Mg_e_abund_sme','Mg_aflag_sme','Mg_chi_sme',\\\n",
    "           'Al_abund_sme','Al_e_abund_sme','Al_aflag_sme','Al_chi_sme',\\\n",
    "           'Si_abund_sme','Si_e_abund_sme','Si_aflag_sme','Si_chi_sme',\\\n",
    "           'K_abund_sme','K_e_abund_sme','K_aflag_sme','K_chi_sme',\\\n",
    "           'Ca_abund_sme','Ca_e_abund_sme','Ca_aflag_sme','Ca_chi_sme',\\\n",
    "           'Sc_abund_sme','Sc_e_abund_sme','Sc_aflag_sme','Sc_chi_sme',\\\n",
    "           'Ti_abund_sme','Ti_e_abund_sme','Ti_aflag_sme','Ti_chi_sme',\\\n",
    "           'V_abund_sme','V_e_abund_sme','V_aflag_sme','V_chi_sme',\\\n",
    "           'Cr_abund_sme','Cr_e_abund_sme','Cr_aflag_sme','Cr_chi_sme',\\\n",
    "           'Mn_abund_sme','Mn_e_abund_sme','Mn_aflag_sme','Mn_chi_sme',\\\n",
    "           'Co_abund_sme','Co_e_abund_sme','Co_aflag_sme','Co_chi_sme',\\\n",
    "           'Ni_abund_sme','Ni_e_abund_sme','Ni_aflag_sme','Ni_chi_sme',\\\n",
    "           'Cu_abund_sme','Cu_e_abund_sme','Cu_aflag_sme','Cu_chi_sme',\\\n",
    "           'Zn_abund_sme','Zn_e_abund_sme','Zn_aflag_sme','Zn_chi_sme',\\\n",
    "           'Y_abund_sme','Y_e_abund_sme','Y_aflag_sme','Y_chi_sme',\\\n",
    "           'Ba_abund_sme','Ba_e_abund_sme','Ba_aflag_sme','Ba_chi_sme',\\\n",
    "           'La_abund_sme','La_e_abund_sme','La_aflag_sme','La_chi_sme',\\\n",
    "           'Nd_abund_sme','Nd_e_abund_sme','Nd_aflag_sme','Nd_chi_sme',\\\n",
    "           'Eu_abund_sme','Eu_e_abund_sme','Eu_aflag_sme','Eu_chi_sme',\\\n",
    "           'Rb_abund_sme','Rb_e_abund_sme','Rb_aflag_sme','Rb_chi_sme']\n"
   ]
  },
  {
   "cell_type": "code",
   "execution_count": 13,
   "metadata": {
    "collapsed": false
   },
   "outputs": [],
   "source": [
    "# All to lower case\n",
    "new_order=[x.lower() for x in new_order]\n"
   ]
  },
  {
   "cell_type": "code",
   "execution_count": 14,
   "metadata": {
    "collapsed": false
   },
   "outputs": [],
   "source": [
    "output=temp_output[new_order]"
   ]
  },
  {
   "cell_type": "code",
   "execution_count": 18,
   "metadata": {
    "collapsed": false
   },
   "outputs": [],
   "source": [
    "#output.write('wg4_04292016/test_filename.csv', format='csv')\n",
    "output.write('wg4_04292016/sobject_iraf_k2.fits', format='fits')"
   ]
  },
  {
   "cell_type": "code",
   "execution_count": null,
   "metadata": {
    "collapsed": true
   },
   "outputs": [],
   "source": []
  }
 ],
 "metadata": {
  "kernelspec": {
   "display_name": "Python 2",
   "language": "python",
   "name": "python2"
  },
  "language_info": {
   "codemirror_mode": {
    "name": "ipython",
    "version": 2
   },
   "file_extension": ".py",
   "mimetype": "text/x-python",
   "name": "python",
   "nbconvert_exporter": "python",
   "pygments_lexer": "ipython2",
   "version": "2.7.6"
  }
 },
 "nbformat": 4,
 "nbformat_minor": 0
}
