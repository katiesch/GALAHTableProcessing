{
 "cells": [
  {
   "cell_type": "code",
   "execution_count": 24,
   "metadata": {
    "collapsed": true
   },
   "outputs": [],
   "source": [
    "import pyfits \n",
    "import pandas as pd\n",
    "from astropy.io import fits\n",
    "import numpy as np"
   ]
  },
  {
   "cell_type": "markdown",
   "metadata": {},
   "source": [
    "Reads in the abundance output from SME and produces a data frame of the values. Currently the abundances and associated quality indicators are organised as tuples; this code splits them all up to be organised by element. "
   ]
  },
  {
   "cell_type": "code",
   "execution_count": 25,
   "metadata": {
    "collapsed": false
   },
   "outputs": [],
   "source": [
    "smedata=pd.DataFrame()\n",
    "\n",
    "sme_abund=pyfits.open('/Users/kschles/Documents/GALAH/wg4output/GALAH_K2.fits')\n",
    "\n",
    "## Not terribly elegant technique below, but it functions! \n",
    "smedata['OBJECT']=np.array(sme_abund[1].data['OBJECT']).byteswap().newbyteorder().astype(int)\n",
    "smedata['GALAH_ID']=sme_abund[1].data['GALAH_ID'].byteswap().newbyteorder()\n",
    "smedata['RA']=sme_abund[1].data['RA'].byteswap().newbyteorder()\n",
    "smedata['DEC']=sme_abund[1].data['DEC'].byteswap().newbyteorder()\n",
    "smedata['VEL']=sme_abund[1].data['VEL'].byteswap().newbyteorder()\n",
    "smedata['E_VEL']=sme_abund[1].data['E_VEL'].byteswap().newbyteorder()\n",
    "smedata['TEFF']=sme_abund[1].data['TEFF'].byteswap().newbyteorder()\n",
    "smedata['E_TEFF']=sme_abund[1].data['E_TEFF'].byteswap().newbyteorder()\n",
    "smedata['LOGG']=sme_abund[1].data['LOGG'].byteswap().newbyteorder()\n",
    "smedata['E_LOGG']=sme_abund[1].data['E_LOGG'].byteswap().newbyteorder()\n",
    "smedata['FEH']=sme_abund[1].data['FEH'].byteswap().newbyteorder()\n",
    "smedata['E_FEH']=sme_abund[1].data['E_FEH'].byteswap().newbyteorder()\n",
    "smedata['VMIC']=sme_abund[1].data['VMIC'].byteswap().newbyteorder()\n",
    "smedata['E_VMIC']=sme_abund[1].data['E_VMIC'].byteswap().newbyteorder()\n",
    "smedata['VMAC']=sme_abund[1].data['VMAC'].byteswap().newbyteorder()\n",
    "smedata['E_VMAC']=sme_abund[1].data['E_VMAC'].byteswap().newbyteorder()\n",
    "smedata['ABFE']=sme_abund[1].data['ABFE'].byteswap().newbyteorder()         ## redundant with FE_ABUND\n",
    "smedata['E_ABFE']=sme_abund[1].data['E_ABFE'].byteswap().newbyteorder()\n",
    "smedata['ALPHA_FE']=sme_abund[1].data['ALPHA_FE'].byteswap().newbyteorder()\n",
    "smedata['E_ALPHA_FE']=sme_abund[1].data['E_ALPHA_FE'].byteswap().newbyteorder()\n",
    "smedata['VRAD']=sme_abund[1].data['VRAD'].byteswap().newbyteorder()         ## sme velocity shift? \n",
    "smedata['E_RAD']=sme_abund[1].data['E_VRAD'].byteswap().newbyteorder()\n",
    "smedata['VSINI']=sme_abund[1].data['VSINI'].byteswap().newbyteorder()\n",
    "smedata['E_VSINI']=sme_abund[1].data['E_VSINI'].byteswap().newbyteorder()\n",
    "smedata['VMAC']=sme_abund[1].data['VMAC'].byteswap().newbyteorder()\n",
    "smedata['E_VMAC']=sme_abund[1].data['E_VMAC'].byteswap().newbyteorder()\n",
    "smedata['TECH']=sme_abund[1].data['TECH'].byteswap().newbyteorder()\n",
    "smedata['SN_1']=sme_abund[1].data['SN'][:,0].byteswap().newbyteorder()\n",
    "smedata['SN_2']=sme_abund[1].data['SN'][:,1].byteswap().newbyteorder()\n",
    "smedata['SN_3']=sme_abund[1].data['SN'][:,2].byteswap().newbyteorder()\n",
    "smedata['SN_4']=sme_abund[1].data['SN'][:,3].byteswap().newbyteorder()\n"
   ]
  },
  {
   "cell_type": "code",
   "execution_count": 26,
   "metadata": {
    "collapsed": true
   },
   "outputs": [],
   "source": [
    "## Tuples\n",
    "smedata['SME_MODE_TUP']=tuple(sme_abund[1].data['MODE'].byteswap().newbyteorder())\n",
    "smedata['SME_ABUND_TUP']=tuple(sme_abund[1].data['ABUND'].byteswap().newbyteorder())\n",
    "smedata['SME_EABUND_TUP']=tuple(sme_abund[1].data['E_ABUND'].byteswap().newbyteorder())\n",
    "smedata['SME_AFLAG_TUP']=tuple(sme_abund[1].data['AFLAG'].byteswap().newbyteorder())\n",
    "smedata['SME_ALOG_TUP']=tuple(sme_abund[1].data['ALOG'].byteswap().newbyteorder())\n",
    "smedata['SME_TIME_TUP']=tuple(sme_abund[1].data['TIME'].byteswap().newbyteorder())\n",
    "smedata['SME_SN_TUP']=tuple(sme_abund[1].data['SN'].byteswap().newbyteorder())\n",
    "smedata['SME_CHI_TUP']=tuple(sme_abund[1].data['CHI'].byteswap().newbyteorder())\n",
    "smedata['SME_ITER_TUP']=tuple(sme_abund[1].data['ITER'].byteswap().newbyteorder())"
   ]
  },
  {
   "cell_type": "markdown",
   "metadata": {},
   "source": [
    "The SME output lists various versions of the parameters. The first value is the initial, the second is the value from the first iteration, and the third is the value from the final iteration. \n",
    "\n",
    "For abundance estimates, the parameters are fixed, so these values are not meaningful. "
   ]
  },
  {
   "cell_type": "code",
   "execution_count": 27,
   "metadata": {
    "collapsed": false
   },
   "outputs": [],
   "source": [
    "for i in range(len(sme_abund[1].data['SVEL'][0])): \n",
    "    if i==0: \n",
    "        descrip='_INIT'\n",
    "    if i==1: \n",
    "        descrip='_ITER1'\n",
    "    if i==2:\n",
    "        descrip='_FITER'\n",
    "        \n",
    "    columnname1='SVEL'+descrip\n",
    "    smedata[columnname1]=sme_abund[1].data['SVEL'][:,i].byteswap().newbyteorder()  \n",
    "    columnname2='STEFF'+descrip\n",
    "    smedata[columnname2]=sme_abund[1].data['STEFF'][:,i].byteswap().newbyteorder() \n",
    "    columnname3='SFEH'+descrip\n",
    "    smedata[columnname3]=sme_abund[1].data['SFEH'][:,i].byteswap().newbyteorder()  \n",
    "    columnname4='SLOGG'+descrip\n",
    "    smedata[columnname4]=sme_abund[1].data['SLOGG'][:,i].byteswap().newbyteorder()   \n",
    "    columnname5='SVSINI'+descrip\n",
    "    smedata[columnname5]=sme_abund[1].data['SVSINI'][:,i].byteswap().newbyteorder()  \n",
    "   "
   ]
  },
  {
   "cell_type": "markdown",
   "metadata": {},
   "source": [
    "Iterates through the various elements to extract the information from the various tuples and store it in an individual \n",
    "dataframe column. "
   ]
  },
  {
   "cell_type": "code",
   "execution_count": 28,
   "metadata": {
    "collapsed": true
   },
   "outputs": [],
   "source": [
    "for i in range(len(sme_abund[1].data['SN'][0])): \n",
    "    columnname=sme_abund[1].data['MODE'][0][i]\n",
    "    if (columnname!=\"\"): \n",
    "        smedata[columnname+'_ABUND']=sme_abund[1].data['ABUND'][:,i].byteswap().newbyteorder()\n",
    "        smedata[columnname+'_EABUND']=sme_abund[1].data['E_ABUND'][:,i].byteswap().newbyteorder()\n",
    "        smedata[columnname+'_AFLAG']=sme_abund[1].data['AFLAG'][:,i].byteswap().newbyteorder()\n",
    "        smedata[columnname+'_ALOG']=sme_abund[1].data['ALOG'][:,i].byteswap().newbyteorder()\n",
    "        smedata[columnname+'_TIME']=sme_abund[1].data['TIME'][:,i].byteswap().newbyteorder()\n",
    "        smedata[columnname+'_ITER']=sme_abund[1].data['ITER'][:,i].byteswap().newbyteorder()\n",
    "        smedata[columnname+'_SN']=sme_abund[1].data['SN'][:,i].byteswap().newbyteorder()\n",
    "        smedata[columnname+'_CHI']=sme_abund[1].data['CHI'][:,i].byteswap().newbyteorder()"
   ]
  },
  {
   "cell_type": "markdown",
   "metadata": {
    "collapsed": false
   },
   "source": [
    "Read in data from The Cannon to merge. "
   ]
  },
  {
   "cell_type": "code",
   "execution_count": 29,
   "metadata": {
    "collapsed": true
   },
   "outputs": [],
   "source": [
    "cannondata=pd.DataFrame()\n",
    "cannon_param=pyfits.open('/Users/kschles/Documents/GALAH/wg4output/GALAH_K2_Cannon_160316.fits')"
   ]
  },
  {
   "cell_type": "code",
   "execution_count": 30,
   "metadata": {
    "collapsed": false
   },
   "outputs": [],
   "source": [
    "#Have to adjust OBJECT to an int to ensure that things are merged correctly with SME data\n",
    "cannondata['OBJECT']=np.array(cannon_param[1].data['OBJECT']).byteswap().newbyteorder().astype(int)\n",
    "cannondata['C_GALAH_ID']=np.array(cannon_param[1].data['GALAH_ID']).byteswap().newbyteorder()\n",
    "cannondata['C_TEFF']=np.array(cannon_param[1].data['TEFF']).byteswap().newbyteorder()\n",
    "cannondata['C_LOGG']=np.array(cannon_param[1].data['LOGG']).byteswap().newbyteorder()\n",
    "cannondata['C_FEH']=np.array(cannon_param[1].data['FEH']).byteswap().newbyteorder()\n",
    "cannondata['C_ALPHA_FE']=np.array(cannon_param[1].data['ALPHA_FE']).byteswap().newbyteorder()\n",
    "cannondata['EBV']=np.array(cannon_param[1].data['EBV']).byteswap().newbyteorder()\n",
    "cannondata['C_VEL']=np.array(cannon_param[1].data['VEL']).byteswap().newbyteorder()\n",
    "cannondata['C_E_VEL']=np.array(cannon_param[1].data['E_VEL']).byteswap().newbyteorder()\n",
    "cannondata['C_CHI2']=np.array(cannon_param[1].data['CHI2']).byteswap().newbyteorder()"
   ]
  },
  {
   "cell_type": "markdown",
   "metadata": {},
   "source": [
    "Merge the two tables together based on Object. The Object needs to be the same format for both tables. Currently set to int64. \n",
    "\n",
    "As the cannondata has many more entries than the smedata at the moment, I have left outer joined them. "
   ]
  },
  {
   "cell_type": "code",
   "execution_count": 31,
   "metadata": {
    "collapsed": true
   },
   "outputs": [],
   "source": [
    "abund_data=pd.merge(cannondata, smedata, how='left', on='OBJECT')"
   ]
  },
  {
   "cell_type": "code",
   "execution_count": 32,
   "metadata": {
    "collapsed": false
   },
   "outputs": [],
   "source": [
    "abund_data['COB_ID']=((abund_data['OBJECT'].astype(str)).str[0:10]).astype(int)\n",
    "abund_data['PIVOT']=((abund_data['OBJECT'].astype(str)).str[12:15]).astype(int)\n",
    "abund_data.loc[np.where(abund_data['GALAH_ID'].isnull()==True)[0], 'GALAH_ID']=-1"
   ]
  },
  {
   "cell_type": "markdown",
   "metadata": {},
   "source": [
    "We also want to merge with information from the IRAF output table. This table is a combined IRAF output table that I produce and will make available to others. "
   ]
  },
  {
   "cell_type": "code",
   "execution_count": 34,
   "metadata": {
    "collapsed": true
   },
   "outputs": [],
   "source": [
    "irafdata=pd.DataFrame()\n",
    "iraf_param=pyfits.open('/Users/kschles/Documents/GALAH/HVS/update_08112015/iraf_output_combination.fits')"
   ]
  },
  {
   "cell_type": "code",
   "execution_count": 35,
   "metadata": {
    "collapsed": true
   },
   "outputs": [],
   "source": [
    "#Have to adjust OBJECT to an int to ensure that things are merged correctly with SME data\n",
    "irafdata['COB_ID']=np.array(iraf_param[1].data['COB_ID']).byteswap().newbyteorder().astype(int)\n",
    "irafdata['PIVOT']=np.array(iraf_param[1].data['PIVOT']).byteswap().newbyteorder()\n",
    "irafdata['I_RA']=np.array(iraf_param[1].data['RADEG']).byteswap().newbyteorder()\n",
    "irafdata['I_DEC']=np.array(iraf_param[1].data['DEDEG']).byteswap().newbyteorder()\n",
    "irafdata['I_GALAH_ID']=np.array(iraf_param[1].data['GALAH_ID']).byteswap().newbyteorder()\n",
    "irafdata['TEFF_GUESS']=np.array(iraf_param[1].data['TEFF_GUESS']).byteswap().newbyteorder()\n",
    "irafdata['LOGG_GUESS']=np.array(iraf_param[1].data['LOGG_GUESS']).byteswap().newbyteorder()\n",
    "irafdata['FEH_GUESS']=np.array(iraf_param[1].data['FEH_GUESS']).byteswap().newbyteorder()\n",
    "irafdata['RV_MEAN_GUESS']=np.array(iraf_param[1].data['RV_MEAN']).byteswap().newbyteorder()\n",
    "irafdata['RV_STDDEV_GUESS']=np.array(iraf_param[1].data['RV_STDDEV']).byteswap().newbyteorder()\n",
    "irafdata['I_EBV']=np.array(iraf_param[1].data['EBV']).byteswap().newbyteorder()\n",
    "irafdata['COMBINE_METHOD']=np.array(iraf_param[1].data['COMBINE_METHOD']).byteswap().newbyteorder()"
   ]
  },
  {
   "cell_type": "code",
   "execution_count": 36,
   "metadata": {
    "collapsed": false
   },
   "outputs": [],
   "source": [
    "wg4data=pd.merge(irafdata,abund_data,how='left',on=['COB_ID', 'PIVOT'])"
   ]
  },
  {
   "cell_type": "code",
   "execution_count": 37,
   "metadata": {
    "collapsed": false
   },
   "outputs": [],
   "source": [
    "## Have this because not every column that will be output has information right now. \n",
    "wg4data['placeholder']=[np.nan for i in range(len(wg4data))]"
   ]
  },
  {
   "cell_type": "code",
   "execution_count": 38,
   "metadata": {
    "collapsed": false
   },
   "outputs": [],
   "source": [
    "## Output to FITS file \n",
    "\n",
    "## Target Information\n",
    "col01=fits.Column(name='COB_ID', format='I10', array=wg4data['COB_ID'])\n",
    "col02=fits.Column(name='PIVOT', format='I3', array=wg4data['PIVOT'])\n",
    "col03=fits.Column(name='COMBINE_METHOD', format='I1', array=wg4data['COMBINE_METHOD'])\n",
    "col04=fits.Column(name='GALAH_ID',format='K15', array=wg4data['I_GALAH_ID'].astype(int))\n",
    "col05=fits.Column(name='RADEG',format='F',unit='Degrees', array=wg4data['I_RA']) # need to crossmatch with other files\n",
    "col06=fits.Column(name='DEDEG',format='F',unit='Degrees', array=wg4data['I_DEC'])\n",
    "col07=fits.Column(name='A_K',format='E',unit='', array=wg4data['placeholder'])\n",
    "col08=fits.Column(name='EBV',format='E',unit='mag', array=wg4data['I_EBV'])\n",
    "## Stellar Parameters from The Cannon\n",
    "col09=fits.Column(name='TEFF_CANNON',format='E',unit='K', array=wg4data['C_TEFF'])\n",
    "col10=fits.Column(name='E_TEFF_CANNON',format='E',unit='K', array=wg4data['placeholder'])\n",
    "col11=fits.Column(name='LOGG_CANNON',format='E', unit='dex', array=wg4data['C_LOGG'])\n",
    "col12=fits.Column(name='E_LOGG_CANNON',format='E', unit='dex', array=wg4data['placeholder'])\n",
    "col13=fits.Column(name='FEH_CANNON',format='E', unit='dex', array=wg4data['C_FEH'])\n",
    "col14=fits.Column(name='E_FEH_CANNON',format='E', unit='dex', array=wg4data['placeholder'])\n",
    "col15=fits.Column(name='ALPHA_FE_CANNON',format='E', unit='dex', array=wg4data['C_ALPHA_FE'])\n",
    "col16=fits.Column(name='E_ALPHA_FE_CANNON',format='E', unit='dex', array=wg4data['placeholder'])\n",
    "col17=fits.Column(name='CHI2_CANNON',format='E', unit='', array=wg4data['C_CHI2'])\n",
    "col18=fits.Column(name='FLAG_CANNON',format='A3', unit='', array=wg4data['placeholder'])\n",
    "## Stellar Parameters from SME (when available)\n",
    "col19=fits.Column(name='TEFF_SME',format='E',unit='K', array=wg4data['TEFF'])\n",
    "col20=fits.Column(name='E_TEFF_SME',format='E',unit='K', array=wg4data['E_TEFF'])\n",
    "col21=fits.Column(name='LOGG_SME',format='E', unit='dex', array=wg4data['LOGG'])\n",
    "col22=fits.Column(name='E_LOGG_SME',format='E', unit='dex', array=wg4data['E_LOGG'])\n",
    "col23=fits.Column(name='FEH_SME',format='E', unit='dex', array=wg4data['FEH'])\n",
    "col24=fits.Column(name='E_FEH_SME',format='E', unit='dex', array=wg4data['E_FEH'])\n",
    "col25=fits.Column(name='ALPHA_FE_SME',format='E', unit='dex', array=wg4data['ALPHA_FE'])\n",
    "col26=fits.Column(name='E_ALPHA_FE_SME',format='E', unit='dex', array=wg4data['E_ALPHA_FE'])\n",
    "col27=fits.Column(name='FLAG_SME',format='5A', unit='', array=wg4data['TECH'])\n",
    "## GUESS Stellar Parameters\n",
    "col28=fits.Column(name='TEFF_GUESS',format='E', unit='K', array=wg4data['TEFF_GUESS'])\n",
    "col29=fits.Column(name='LOGG_GUESS',format='E', unit='dex', array=wg4data['LOGG_GUESS'])\n",
    "col30=fits.Column(name='FEH_GUESS',format='E', unit='dex', array=wg4data['FEH_GUESS'])\n",
    "col31=fits.Column(name='FLAG_GUESS',format='A3', unit='',array=wg4data['placeholder'])\n",
    "## Radial Velocity Information\n",
    "col32=fits.Column(name='RV_GUESS',format='E', unit='km/s',array=wg4data['RV_MEAN_GUESS'])\n",
    "col33=fits.Column(name='E_RV_GUESS',format='E', unit='km/s',array=wg4data['RV_STDDEV_GUESS'])\n",
    "col34=fits.Column(name='RV_CANNON',format='E', unit='km/s', array=wg4data['C_VEL'])\n",
    "col35=fits.Column(name='E_RV_CANNON',format='E', unit='km/s', array=wg4data['C_E_VEL'])\n",
    "col36=fits.Column(name='RV_SME',format='E', unit='km/s', array=wg4data['VEL'])\n",
    "col37=fits.Column(name='E_RV_SME',format='E', unit='km/s', array=wg4data['E_VEL'])\n",
    "col38=fits.Column(name='VSINI_SME',format='E', unit='km/s', array=wg4data['VSINI'])\n",
    "col39=fits.Column(name='E_VSINI_SME',format='E', unit='km/s', array=wg4data['E_VSINI'])"
   ]
  },
  {
   "cell_type": "code",
   "execution_count": 48,
   "metadata": {
    "collapsed": false
   },
   "outputs": [],
   "source": [
    "cols=[col01,col02,col03,col04,col05,col06,col07,col08,col09,col10,\\\n",
    "      col11,col12,col13,col14,col15,col16,col17,col18,col19,col20,\\\n",
    "      col21,col22,col23,col24,col25,col26,col27,col28,col29,col30,\\\n",
    "      col31,col32,col33,col34,col35,col36,col37,col38,col39]"
   ]
  },
  {
   "cell_type": "code",
   "execution_count": 49,
   "metadata": {
    "collapsed": false
   },
   "outputs": [],
   "source": [
    "## Output information for each SME abundance individually\n",
    "cols_ind=cols\n",
    "\n",
    "output_col=['_ABUND_SME', '_E_ABUND_SME', '_AFLAG_SME', '_CHI_SME', '_SN_SME', \\\n",
    "            '_ITER_SME', '_TIME_SME', '_ALOG_SME']\n",
    "input_col=['_ABUND', '_EABUND', '_AFLAG', '_CHI', '_SN', '_ITER', '_TIME', '_ALOG']\n",
    "\n",
    "for i in range(len(sme_abund[1].data['MODE'][0])):\n",
    "    columnname=sme_abund[1].data['MODE'][0][i]\n",
    "    if (columnname!=\"\"): \n",
    "        for k in range(len(output_col)):\n",
    "            output=columnname+output_col[k]\n",
    "            input=columnname+input_col[k]\n",
    "            if ((output_col[k]=='_ITER_SME') | (output_col[k]=='_AFLAG_SME') | \\\n",
    "                (output_col[k]=='_ALOG_SME')): \n",
    "                cols_ind.append(fits.Column(name=output, format='I', array=wg4data[input]))\n",
    "            else: \n",
    "                cols_ind.append(fits.Column(name=output, format='E', array=wg4data[input]))\n"
   ]
  },
  {
   "cell_type": "code",
   "execution_count": 51,
   "metadata": {
    "collapsed": false
   },
   "outputs": [],
   "source": [
    "## Write out FITS file with abundance information for each feature as its own column\n",
    "new_cols = fits.ColDefs(cols_ind)\n",
    "tbhdu=fits.BinTableHDU.from_columns(new_cols)\n",
    "tbhdu.writeto('wg4_output_individual.fits')"
   ]
  },
  {
   "cell_type": "markdown",
   "metadata": {},
   "source": [
    "Want to write out a tuple version of the table informaton as well. First need to change all columns that don't have a match in sme_data from 'NaN' to a tuple of NaN"
   ]
  },
  {
   "cell_type": "code",
   "execution_count": 52,
   "metadata": {
    "collapsed": false
   },
   "outputs": [],
   "source": [
    "indexer=np.where(wg4data['SME_ABUND_TUP'].isnull())[0]"
   ]
  },
  {
   "cell_type": "code",
   "execution_count": 53,
   "metadata": {
    "collapsed": false
   },
   "outputs": [],
   "source": [
    "null_tuple=[np.nan for i in range(0,99)]"
   ]
  },
  {
   "cell_type": "code",
   "execution_count": 54,
   "metadata": {
    "collapsed": false
   },
   "outputs": [],
   "source": [
    "for i in range(len(indexer)):\n",
    "    k=indexer[i]\n",
    "    wg4data['SME_ABUND_TUP'].set_value(k,null_tuple)\n",
    "    wg4data['SME_EABUND_TUP'].set_value(k,null_tuple)\n",
    "    wg4data['SME_AFLAG_TUP'].set_value(k,null_tuple)\n",
    "    wg4data['SME_ALOG_TUP'].set_value(k,null_tuple)\n",
    "    wg4data['SME_TIME_TUP'].set_value(k,null_tuple)\n",
    "    wg4data['SME_SN_TUP'].set_value(k,null_tuple)\n",
    "    wg4data['SME_CHI_TUP'].set_value(k,null_tuple)\n",
    "    wg4data['SME_ITER_TUP'].set_value(k,null_tuple)\n",
    "    "
   ]
  },
  {
   "cell_type": "code",
   "execution_count": 55,
   "metadata": {
    "collapsed": false
   },
   "outputs": [],
   "source": [
    "temp=' '.join(sme_abund[1].data['MODE'][0])\n",
    "features=[temp for i in range(len(wg4data['I_RA']))]\n",
    "col40=fits.Column(name='FEATURE_SME',format='594A',unit='',array=features)\n",
    "col41=fits.Column(name='ABUND_SME',format='99E',unit='',array=tuple(wg4data['SME_ABUND_TUP']))\n",
    "col42=fits.Column(name='E_ABUND_SME',format='99E',unit='',array=tuple(wg4data['SME_EABUND_TUP']))\n",
    "col43=fits.Column(name='CHI_SME',format='99E',unit='',array=tuple(wg4data['SME_CHI_TUP']))\n",
    "col44=fits.Column(name='SN_SME',format='99E',unit='',array=tuple(wg4data['SME_SN_TUP']))\n",
    "col45=fits.Column(name='AFLAG_SME',format='99E',unit='',array=tuple(wg4data['SME_AFLAG_TUP']))\n",
    "col46=fits.Column(name='ALOG_SME',format='99E',unit='',array=tuple(wg4data['SME_ALOG_TUP']))\n",
    "col47=fits.Column(name='TIME_SME',format='99E',unit='seconds',array=tuple(wg4data['SME_TIME_TUP']))\n",
    "col48=fits.Column(name='ITER_SME',format='99E',unit='',array=tuple(wg4data['SME_ITER_TUP']))\n"
   ]
  },
  {
   "cell_type": "code",
   "execution_count": 56,
   "metadata": {
    "collapsed": false
   },
   "outputs": [],
   "source": [
    "cols=fits.ColDefs([col01,col02,col03,col04,col05,col06,col07,col08,col09,col10,\\\n",
    "                   col11,col12,col13,col14,col15,col16,col17,col18,col19,col20,\\\n",
    "                   col21,col22,col23,col24,col25,col26,col27,col28,col29,col30,\\\n",
    "                   col31,col32,col33,col34,col35,col36,col37,col38,col39,col40,\\\n",
    "                   col41,col42,col43,col44,col45,col46,col47,col48])\n",
    "tbhdu=fits.BinTableHDU.from_columns(cols)\n",
    "tbhdu.writeto('wg4_output_tuples.fits')\n",
    "\n"
   ]
  }
 ],
 "metadata": {
  "kernelspec": {
   "display_name": "Python 2",
   "language": "python",
   "name": "python2"
  },
  "language_info": {
   "codemirror_mode": {
    "name": "ipython",
    "version": 2
   },
   "file_extension": ".py",
   "mimetype": "text/x-python",
   "name": "python",
   "nbconvert_exporter": "python",
   "pygments_lexer": "ipython2",
   "version": "2.7.6"
  }
 },
 "nbformat": 4,
 "nbformat_minor": 0
}
