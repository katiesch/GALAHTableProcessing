{
 "cells": [
  {
   "cell_type": "code",
   "execution_count": 17,
   "metadata": {
    "collapsed": false
   },
   "outputs": [],
   "source": [
    "import pyfits \n",
    "import pandas as pd\n",
    "from astropy.io import fits\n",
    "import numpy as np"
   ]
  },
  {
   "cell_type": "code",
   "execution_count": 18,
   "metadata": {
    "collapsed": true
   },
   "outputs": [],
   "source": [
    "cannondata=pd.DataFrame()\n",
    "cannon_param=pyfits.open('/Users/kschles/Documents/GALAH/wg4output/wg4_04292016/GALAH_cannon_K2.fits')"
   ]
  },
  {
   "cell_type": "code",
   "execution_count": 19,
   "metadata": {
    "collapsed": false
   },
   "outputs": [],
   "source": [
    "#Have to adjust OBJECT to an int to ensure that things are merged correctly with SME data\n",
    "cannondata['sobject_id']=np.array(cannon_param[1].data['OBJECT']).byteswap().newbyteorder().astype(int)\n",
    "cannondata['C_GALAH_ID']=np.array(cannon_param[1].data['GALAH_ID']).byteswap().newbyteorder()\n",
    "cannondata['C_TEFF']=np.array(cannon_param[1].data['TEFF']).byteswap().newbyteorder()\n",
    "cannondata['C_LOGG']=np.array(cannon_param[1].data['LOGG']).byteswap().newbyteorder()\n",
    "cannondata['C_FEH']=np.array(cannon_param[1].data['FEH']).byteswap().newbyteorder()\n",
    "cannondata['C_ALPHA_FE']=np.array(cannon_param[1].data['ALPHA_FE']).byteswap().newbyteorder()\n",
    "cannondata['EBV']=np.array(cannon_param[1].data['EBV']).byteswap().newbyteorder()\n",
    "cannondata['C_VEL']=np.array(cannon_param[1].data['VEL']).byteswap().newbyteorder()\n",
    "cannondata['C_E_VEL']=np.array(cannon_param[1].data['E_VEL']).byteswap().newbyteorder()\n",
    "cannondata['C_CHI2']=np.array(cannon_param[1].data['CHI2']).byteswap().newbyteorder()"
   ]
  },
  {
   "cell_type": "markdown",
   "metadata": {},
   "source": [
    "Want to merge with information from IRAF output table. Trying below to make it independent of iraf_output_combination.fits. THIS WILL CHANGE WHEN THE IRAF OUTPUT FILE SYSTEM CHANGES.  "
   ]
  },
  {
   "cell_type": "code",
   "execution_count": 20,
   "metadata": {
    "collapsed": true
   },
   "outputs": [],
   "source": [
    "iraf_data=pd.read_csv(\"/Users/kschles/Documents/GALAH/iraf_v5.1/iraf_dr51_new_05042016.csv\")\n",
    "## The GUESS values are often set to 999. or 9999. rather than null. So I need to adjust this. \n",
    "iraf_data.loc[np.where(iraf_data['rv_c2_guess'].astype(float)==999.)[0],'rv_c2_guess']=np.nan"
   ]
  },
  {
   "cell_type": "code",
   "execution_count": 21,
   "metadata": {
    "collapsed": false
   },
   "outputs": [],
   "source": [
    "wg4data=pd.merge(iraf_data,cannondata,how='right',on=['sobject_id'])"
   ]
  },
  {
   "cell_type": "code",
   "execution_count": 22,
   "metadata": {
    "collapsed": false
   },
   "outputs": [],
   "source": [
    "## Have this because not every column that will be output has information right now. \n",
    "wg4data['placeholder']=[np.nan for i in range(len(wg4data))]"
   ]
  },
  {
   "cell_type": "code",
   "execution_count": 23,
   "metadata": {
    "collapsed": true
   },
   "outputs": [],
   "source": [
    "wg4data['pipeline']=['iraf_5.1' for i in range(len(wg4data))]\n",
    "wg4data['cannon_vers']=[1.1 for i in range(len(wg4data))]"
   ]
  },
  {
   "cell_type": "code",
   "execution_count": 13,
   "metadata": {
    "collapsed": false
   },
   "outputs": [
    {
     "data": {
      "text/plain": [
       "array(['sobject_id', 'galah_id', 'cob_id', 'pivot', 'field_id', 'ra',\n",
       "       'dec', 'ebv', 'barycentric', 'rv_c1_guess', 'rv_c2_guess',\n",
       "       'rv_c3_guess', 'rv_c4_guess', 'rv_guess', 'e_rv_guess',\n",
       "       'teff_guess', 'logg_guess', 'feh_guess', 'flag_guess',\n",
       "       'snr_c1_guess', 'snr_c2_guess', 'snr_c3_guess', 'snr_c4_guess',\n",
       "       'snr_c1_iraf', 'snr_c2_iraf', 'snr_c3_iraf', 'snr_c4_iraf',\n",
       "       'snr2_c1_iraf', 'snr2_c2_iraf', 'snr2_c3_iraf', 'snr2_c4_iraf',\n",
       "       'red_flag', 'red_vers', 'SOBJECT_ID', 'C_GALAH_ID', 'C_TEFF',\n",
       "       'C_LOGG', 'C_FEH', 'C_ALPHA_FE', 'EBV', 'C_VEL', 'C_E_VEL',\n",
       "       'C_CHI2', 'placeholder', 'pipeline', 'cannon_vers'], dtype=object)"
      ]
     },
     "execution_count": 13,
     "metadata": {},
     "output_type": "execute_result"
    }
   ],
   "source": [
    "wg4data.columns.values"
   ]
  },
  {
   "cell_type": "code",
   "execution_count": 28,
   "metadata": {
    "collapsed": false
   },
   "outputs": [],
   "source": [
    "## Output to FITS file \n",
    "\n",
    "## Target Information\n",
    "col01=fits.Column(name='sobject_id', format='K15', array=wg4data['sobject_id'])\n",
    "col02=fits.Column(name='galah_id',format='K15', array=wg4data['galah_id'].astype(int))\n",
    "col03=fits.Column(name='ra',format='F',unit='deg', array=wg4data['ra']) # need to crossmatch with other files\n",
    "col04=fits.Column(name='dec',format='F',unit='deg', array=wg4data['dec'])\n",
    "col05=fits.Column(name='a_k',format='E',unit='', array=wg4data['placeholder'])\n",
    "col06=fits.Column(name='ebv',format='E',unit='mag', array=wg4data['ebv'])\n",
    "col07=fits.Column(name='red_pipeline', format='A10', array=wg4data['pipeline'])\n",
    "col08=fits.Column(name='red_flags', format='E', array=wg4data['placeholder'])\n",
    "## Stellar Parameters from SME (when available)\n",
    "col09=fits.Column(name='teff_cannon',format='E',unit='K', array=wg4data['C_TEFF'])\n",
    "col10=fits.Column(name='e_teff_cannon',format='E',unit='K', array=wg4data['placeholder'])\n",
    "col11=fits.Column(name='logg_cannon',format='E', unit='', array=wg4data['C_LOGG'])\n",
    "col12=fits.Column(name='e_logg_cannon',format='E', unit='', array=wg4data['placeholder'])\n",
    "col13=fits.Column(name='feh_cannon',format='E', unit='', array=wg4data['C_FEH'])\n",
    "col14=fits.Column(name='e_feh_cannon',format='E', unit='', array=wg4data['placeholder'])\n",
    "col15=fits.Column(name='alpha_fe_cannon',format='E', unit='', array=wg4data['C_ALPHA_FE'])\n",
    "col16=fits.Column(name='e_alpha_fe_cannon',format='E', unit='', array=wg4data['placeholder'])\n",
    "col17=fits.Column(name='chi2_cannon', format='E', array=wg4data['C_CHI2'])\n",
    "col18=fits.Column(name='flag_cannon',format='5A', unit='', array=wg4data['placeholder'])\n",
    "col19=fits.Column(name='vers_cannon',format='E', array=wg4data['cannon_vers'])\n",
    "col20=fits.Column(name='rv_cannon',format='E', unit='km/s', array=wg4data['C_VEL'])\n",
    "col21=fits.Column(name='e_rv_cannon',format='E', unit='km/s', array=wg4data['C_E_VEL'])\n",
    "col22=fits.Column(name='ebv_cannon',format='E', unit='mag', array=wg4data['EBV'])\n"
   ]
  },
  {
   "cell_type": "code",
   "execution_count": 29,
   "metadata": {
    "collapsed": false
   },
   "outputs": [],
   "source": [
    "cols=[col01,col02,col03,col04,col05,col06,col07,col08,col09,col10,\\\n",
    "      col11,col12,col13,col14,col15,col16,col17,col18,col19,col20,\\\n",
    "      col21,col22]"
   ]
  },
  {
   "cell_type": "code",
   "execution_count": 20,
   "metadata": {
    "collapsed": false
   },
   "outputs": [],
   "source": [
    "\"\"\"\n",
    "## Output information for each SME abundance individually\n",
    "cols_ind=cols\n",
    "\n",
    "output_col=['_abund_sme', '_e_abund_sme', '_aflag_sme', '_chi_sme', '_sn_sme', \\\n",
    "            '_iter_sme', '_time_sme', '_alog_sme']\n",
    "input_col=['_ABUND', '_EABUND', '_AFLAG', '_CHI', '_SN', '_ITER', '_TIME', '_ALOG']\n",
    "\n",
    "for i in range(len(sme_abund[1].data['MODE'][0])):\n",
    "    columnname=sme_abund[1].data['MODE'][0][i]\n",
    "    if (columnname!=\"\"): \n",
    "        for k in range(len(output_col)):\n",
    "            output=columnname+output_col[k]\n",
    "            input=columnname+input_col[k]\n",
    "            if ((output_col[k]=='_ITER_SME') | (output_col[k]=='_AFLAG_SME') | \\\n",
    "                (output_col[k]=='_ALOG_SME')): \n",
    "                cols_ind.append(fits.Column(name=output, format='I', array=wg4data[input]))\n",
    "            else: \n",
    "                cols_ind.append(fits.Column(name=output, format='E', array=wg4data[input]))\n",
    "\"\"\""
   ]
  },
  {
   "cell_type": "code",
   "execution_count": 30,
   "metadata": {
    "collapsed": false
   },
   "outputs": [],
   "source": [
    "## Write out FITS file with abundance information for each feature as its own column\n",
    "#new_cols = fits.ColDefs(cols_ind)\n",
    "new_cols = fits.ColDefs(cols)\n",
    "tbhdu=fits.BinTableHDU.from_columns(new_cols)\n",
    "tbhdu.writeto('wg4_04292016/sobject_iraf_cannon_1.1_k2.fits')"
   ]
  },
  {
   "cell_type": "markdown",
   "metadata": {},
   "source": [
    "Want to write out a tuple version of the table informaton as well. First need to change all columns that don't have a match in sme_data from 'NaN' to a tuple of NaN"
   ]
  },
  {
   "cell_type": "code",
   "execution_count": 33,
   "metadata": {
    "collapsed": false
   },
   "outputs": [],
   "source": [
    "indexer=np.where(wg4data['SME_ABUND_TUP'].isnull())[0]"
   ]
  },
  {
   "cell_type": "code",
   "execution_count": 34,
   "metadata": {
    "collapsed": false
   },
   "outputs": [],
   "source": [
    "null_tuple=[np.nan for i in range(0,99)]"
   ]
  },
  {
   "cell_type": "code",
   "execution_count": 35,
   "metadata": {
    "collapsed": false
   },
   "outputs": [],
   "source": [
    "for i in range(len(indexer)):\n",
    "    k=indexer[i]\n",
    "    wg4data['SME_ABUND_TUP'].set_value(k,null_tuple)\n",
    "    wg4data['SME_EABUND_TUP'].set_value(k,null_tuple)\n",
    "    wg4data['SME_AFLAG_TUP'].set_value(k,null_tuple)\n",
    "    wg4data['SME_ALOG_TUP'].set_value(k,null_tuple)\n",
    "    wg4data['SME_TIME_TUP'].set_value(k,null_tuple)\n",
    "    wg4data['SME_SN_TUP'].set_value(k,null_tuple)\n",
    "    wg4data['SME_CHI_TUP'].set_value(k,null_tuple)\n",
    "    wg4data['SME_ITER_TUP'].set_value(k,null_tuple)\n",
    "    "
   ]
  },
  {
   "cell_type": "code",
   "execution_count": 36,
   "metadata": {
    "collapsed": false
   },
   "outputs": [],
   "source": [
    "temp=' '.join(sme_abund[1].data['MODE'][0])\n",
    "features=[temp for i in range(len(wg4data['I_RA']))]\n",
    "col40=fits.Column(name='FEATURE_SME',format='594A',unit='',array=features)\n",
    "col41=fits.Column(name='ABUND_SME',format='99E',unit='',array=tuple(wg4data['SME_ABUND_TUP']))\n",
    "col42=fits.Column(name='E_ABUND_SME',format='99E',unit='',array=tuple(wg4data['SME_EABUND_TUP']))\n",
    "col43=fits.Column(name='CHI_SME',format='99E',unit='',array=tuple(wg4data['SME_CHI_TUP']))\n",
    "col44=fits.Column(name='SN_SME',format='99E',unit='',array=tuple(wg4data['SME_SN_TUP']))\n",
    "col45=fits.Column(name='AFLAG_SME',format='99E',unit='',array=tuple(wg4data['SME_AFLAG_TUP']))\n",
    "col46=fits.Column(name='ALOG_SME',format='99E',unit='',array=tuple(wg4data['SME_ALOG_TUP']))\n",
    "col47=fits.Column(name='TIME_SME',format='99E',unit='seconds',array=tuple(wg4data['SME_TIME_TUP']))\n",
    "col48=fits.Column(name='ITER_SME',format='99E',unit='',array=tuple(wg4data['SME_ITER_TUP']))\n"
   ]
  },
  {
   "cell_type": "code",
   "execution_count": 37,
   "metadata": {
    "collapsed": false
   },
   "outputs": [],
   "source": [
    "cols=fits.ColDefs([col01,col02,col03,col04,col05,col06,col07,col08,col09,col10,\\\n",
    "                   col11,col12,col13,col14,col15,col16,col17,col18,col19,col20,\\\n",
    "                   col21,col22,col23,col24,col25,col26,col27,col28,col29,col30,\\\n",
    "                   col31,col32,col33,col34,col35,col36,col37,col38,col39,col40,\\\n",
    "                   col41,col42,col43,col44,col45,col46,col47,col48])\n",
    "tbhdu=fits.BinTableHDU.from_columns(cols)\n",
    "tbhdu.writeto('wg4_output_tuples.fits')\n",
    "\n"
   ]
  },
  {
   "cell_type": "code",
   "execution_count": null,
   "metadata": {
    "collapsed": true
   },
   "outputs": [],
   "source": []
  }
 ],
 "metadata": {
  "kernelspec": {
   "display_name": "Python 2",
   "language": "python",
   "name": "python2"
  },
  "language_info": {
   "codemirror_mode": {
    "name": "ipython",
    "version": 2
   },
   "file_extension": ".py",
   "mimetype": "text/x-python",
   "name": "python",
   "nbconvert_exporter": "python",
   "pygments_lexer": "ipython2",
   "version": "2.7.6"
  }
 },
 "nbformat": 4,
 "nbformat_minor": 0
}
