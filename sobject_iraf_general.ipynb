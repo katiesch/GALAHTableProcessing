{
 "cells": [
  {
   "cell_type": "markdown",
   "metadata": {},
   "source": [
    "This program takes the information from the Observations, Objects, and iraf_dr5.1 tables and combines it into a single table, with a row per object. \n",
    "\n",
    "It also pulls information for each target from APASS, 2MASS, and UCAC4 based on RA/Dec matching. "
   ]
  },
  {
   "cell_type": "code",
   "execution_count": 2,
   "metadata": {
    "collapsed": false
   },
   "outputs": [],
   "source": [
    "import pandas as pd\n",
    "import os\n",
    "import numpy as np\n",
    "from astropy.io import fits\n",
    "from astropy.time import Time"
   ]
  },
  {
   "cell_type": "markdown",
   "metadata": {},
   "source": [
    "Read in the table of observations produced by Janez."
   ]
  },
  {
   "cell_type": "code",
   "execution_count": 3,
   "metadata": {
    "collapsed": false
   },
   "outputs": [],
   "source": [
    "obs_data=pd.read_csv(\"/Users/kschles/Documents/GALAH/iraf_v5.1/observations_05042016.csv\", low_memory=False)"
   ]
  },
  {
   "cell_type": "markdown",
   "metadata": {},
   "source": [
    "Isolate science observations. Here I remove calibration images (biases/flats/arcs). I also extract all observations with CCD1 because I don't need to know all the information from each CCD. "
   ]
  },
  {
   "cell_type": "code",
   "execution_count": 4,
   "metadata": {
    "collapsed": true
   },
   "outputs": [],
   "source": [
    "obs_data['ccd']=((obs_data['runccd_id'].astype(str)).str[10:11]).astype(int)\n",
    "obs1_data=obs_data.loc[np.where((obs_data['ccd']==1) & ((obs_data['ndfclass_updated']=='MFOBJECT') | (obs_data['ndfclass_updated']=='MFFLX')))[0]]"
   ]
  },
  {
   "cell_type": "markdown",
   "metadata": {},
   "source": [
    "Group the observations by cob_id. "
   ]
  },
  {
   "cell_type": "code",
   "execution_count": 5,
   "metadata": {
    "collapsed": false
   },
   "outputs": [
    {
     "data": {
      "text/plain": [
       "array(['runccd_id', 'run_id', 'dirname', 'fitsfile', 'run', 'cob_id',\n",
       "       'ccd', 'plate', 'cfg_file', 'meanra', 'meandec', 'cenra', 'cendec',\n",
       "       'utmjd', 'ndfclass', 'ndfclass_updated', 'fieldid', 'obsid',\n",
       "       'exposed', 'std_name', 'obstatus', 'qflag', 'oclass'], dtype=object)"
      ]
     },
     "execution_count": 5,
     "metadata": {},
     "output_type": "execute_result"
    }
   ],
   "source": [
    "obs1_data.columns.values"
   ]
  },
  {
   "cell_type": "code",
   "execution_count": 6,
   "metadata": {
    "collapsed": false
   },
   "outputs": [],
   "source": [
    "temp=obs1_data.groupby(['cob_id'], as_index=False)\n",
    "cobid_obsdata=temp.agg({'runccd_id': 'first', 'dirname': 'first', 'ccd' : 'first', 'plate' : 'first', 'cfg_file': 'first', 'cenra': 'first', 'cendec': 'first', 'obsid': 'first', 'exposed': np.sum, 'std_name': 'first', 'qflag': 'first', 'oclass': 'first','ndfclass_updated': 'first', 'utmjd' : np.mean})"
   ]
  },
  {
   "cell_type": "markdown",
   "metadata": {},
   "source": [
    "Set up UTMJD formatting so it can be modified to other formats. "
   ]
  },
  {
   "cell_type": "code",
   "execution_count": 7,
   "metadata": {
    "collapsed": false
   },
   "outputs": [],
   "source": [
    "t=Time(cobid_obsdata['utmjd'], format='mjd', scale='utc')"
   ]
  },
  {
   "cell_type": "code",
   "execution_count": 9,
   "metadata": {
    "collapsed": false
   },
   "outputs": [
    {
     "name": "stdout",
     "output_type": "stream",
     "text": [
      "2013-11-10 12:08:53.997\n"
     ]
    }
   ],
   "source": [
    "print t.iso[0]"
   ]
  },
  {
   "cell_type": "markdown",
   "metadata": {},
   "source": [
    "Read in the IRAF output table "
   ]
  },
  {
   "cell_type": "code",
   "execution_count": 8,
   "metadata": {
    "collapsed": false
   },
   "outputs": [],
   "source": [
    "iraf_data=pd.read_csv(\"/Users/kschles/Documents/GALAH/iraf_v5.1/iraf_dr51_new_05042016.csv\")\n",
    "iraf_data.rename(columns=lambda x: x.strip(), inplace=True)"
   ]
  },
  {
   "cell_type": "code",
   "execution_count": 13,
   "metadata": {
    "collapsed": false
   },
   "outputs": [
    {
     "data": {
      "text/plain": [
       "array(['sobject_id', 'galah_id', 'cob_id', 'pivot', 'field_id', 'ra',\n",
       "       'dec', 'ebv', 'barycentric', 'rv_c1_guess', 'rv_c2_guess',\n",
       "       'rv_c3_guess', 'rv_c4_guess', 'rv_guess', 'e_rv_guess',\n",
       "       'teff_guess', 'logg_guess', 'feh_guess', 'flag_guess',\n",
       "       'snr_c1_guess', 'snr_c2_guess', 'snr_c3_guess', 'snr_c4_guess',\n",
       "       'snr_c1_iraf', 'snr_c2_iraf', 'snr_c3_iraf', 'snr_c4_iraf',\n",
       "       'snr2_c1_iraf', 'snr2_c2_iraf', 'snr2_c3_iraf', 'snr2_c4_iraf',\n",
       "       'red_flag', 'red_vers'], dtype=object)"
      ]
     },
     "execution_count": 13,
     "metadata": {},
     "output_type": "execute_result"
    }
   ],
   "source": [
    "iraf_data.columns.values"
   ]
  },
  {
   "cell_type": "code",
   "execution_count": 9,
   "metadata": {
    "collapsed": false
   },
   "outputs": [],
   "source": [
    "## The GUESS values are often set to 999. or 9999. rather than null. So I need to adjust this. \n",
    "## Note also that v_ccd4 is invalid; it is merely a copy of v_comb. \n",
    "iraf_data.loc[np.where(iraf_data['rv_c2_guess'].astype(float)==999.)[0],'rv_c2_guess']=np.nan"
   ]
  },
  {
   "cell_type": "markdown",
   "metadata": {
    "collapsed": true
   },
   "source": [
    "Now we want to match the IRAF output table with the observations table based on cob_id. Each object will now have information about the field observation in its row. "
   ]
  },
  {
   "cell_type": "code",
   "execution_count": 10,
   "metadata": {
    "collapsed": false
   },
   "outputs": [],
   "source": [
    "combo1=pd.merge(iraf_data,cobid_obsdata[['cenra', 'cendec', 'qflag', 'std_name', 'cfg_file', 'obsid', 'ndfclass_updated', 'cob_id', 'runccd_id', 'dirname']], how=\"left\", on=\"cob_id\")"
   ]
  },
  {
   "cell_type": "markdown",
   "metadata": {},
   "source": [
    "I now want to match up the information in combo1 (observations+IRAF output) with the information from the objects table because I want info like objects.name and objects.comment. The objects table is huge, so, using Jeffrey's bash script, I've split it up by night. We match up the big_combo table with the objects table on a night by night basis using cob_id and pivot. "
   ]
  },
  {
   "cell_type": "code",
   "execution_count": 10,
   "metadata": {
    "collapsed": false
   },
   "outputs": [
    {
     "data": {
      "text/plain": [
       "array(['sobject_id', 'galah_id', 'cob_id', 'pivot', 'field_id', 'ra',\n",
       "       'dec', 'ebv', 'barycentric', 'rv_c1_guess', 'rv_c2_guess',\n",
       "       'rv_c3_guess', 'rv_c4_guess', 'rv_guess', 'e_rv_guess',\n",
       "       'teff_guess', 'logg_guess', 'feh_guess', 'flag_guess',\n",
       "       'snr_c1_guess', 'snr_c2_guess', 'snr_c3_guess', 'snr_c4_guess',\n",
       "       'snr_c1_iraf', 'snr_c2_iraf', 'snr_c3_iraf', 'snr_c4_iraf',\n",
       "       'snr2_c1_iraf', 'snr2_c2_iraf', 'snr2_c3_iraf', 'snr2_c4_iraf',\n",
       "       'red_flag', 'red_vers', 'cenra', 'cendec', 'qflag', 'std_name',\n",
       "       'cfg_file', 'obsid', 'ndfclass_updated', 'runccd_id', 'dirname'], dtype=object)"
      ]
     },
     "execution_count": 10,
     "metadata": {},
     "output_type": "execute_result"
    }
   ],
   "source": [
    "combo1.columns.values"
   ]
  },
  {
   "cell_type": "code",
   "execution_count": 11,
   "metadata": {
    "collapsed": false
   },
   "outputs": [],
   "source": [
    "## This groups the objects in combo1 table by date and creates a list of each date used. \n",
    "date_grouping=combo1.groupby('dirname')\n",
    "date_list=combo1[['dirname']].groupby('dirname', as_index=False).first()"
   ]
  },
  {
   "cell_type": "code",
   "execution_count": 12,
   "metadata": {
    "collapsed": false
   },
   "outputs": [
    {
     "name": "stdout",
     "output_type": "stream",
     "text": [
      "131116\n",
      "131118\n",
      "131119\n",
      "131120\n",
      "131121\n",
      "131122\n",
      "131123\n",
      "131216\n",
      "131218\n",
      "131220\n",
      "131222\n",
      "140112\n",
      "140114\n",
      "140117\n",
      "140118\n",
      "140207\n",
      "140208\n",
      "140209\n",
      "140210\n",
      "140211\n",
      "140212\n",
      "140303\n",
      "140304\n",
      "140305\n",
      "140307\n",
      "140308\n",
      "140309\n",
      "140310\n",
      "140311\n",
      "140312\n",
      "140313\n",
      "140314\n",
      "140315\n",
      "140316\n",
      "140409\n",
      "140410\n",
      "140412\n",
      "140413\n",
      "140414\n",
      "140415\n",
      "140607\n",
      "140608\n",
      "140609\n",
      "140610\n",
      "140611\n",
      "140707\n",
      "140708\n",
      "140709\n",
      "140710\n",
      "140711\n",
      "140712\n",
      "140713\n",
      "140805\n",
      "140806\n",
      "140807\n",
      "140809\n",
      "140813\n",
      "140814\n",
      "141101\n",
      "141102\n",
      "141103\n",
      "141104\n",
      "141202\n",
      "141231\n",
      "150101\n",
      "150102\n",
      "150103\n",
      "150105\n",
      "150106\n",
      "150107\n",
      "150108\n",
      "150109\n",
      "150112\n",
      "150204\n",
      "150205\n",
      "150206\n",
      "150207\n",
      "150208\n",
      "150209\n",
      "150210\n",
      "150211\n",
      "150330\n",
      "150401\n",
      "150403\n",
      "150404\n",
      "150405\n",
      "150406\n",
      "150407\n",
      "150408\n",
      "150409\n",
      "150410\n",
      "150411\n",
      "150412\n",
      "150413\n",
      "150426\n",
      "150427\n",
      "150428\n",
      "150429\n",
      "150430\n",
      "150504\n",
      "150531\n",
      "150601\n",
      "150602\n",
      "150603\n",
      "150604\n",
      "150605\n",
      "150607\n",
      "150703\n",
      "150704\n",
      "150705\n",
      "150706\n",
      "150718\n",
      "150719\n",
      "150824\n",
      "150826\n",
      "150827\n",
      "150828\n",
      "150829\n",
      "150830\n",
      "150831\n",
      "150901\n",
      "150902\n",
      "150903\n",
      "151008\n",
      "151009\n",
      "151109\n",
      "151110\n",
      "151111\n",
      "151219\n",
      "151220\n",
      "151222\n",
      "151224\n",
      "151225\n",
      "151226\n",
      "151228\n",
      "151229\n",
      "151230\n",
      "151231\n",
      "160106\n",
      "160107\n",
      "160108\n",
      "160109\n",
      "160110\n",
      "160111\n",
      "160112\n",
      "160113\n",
      "160123\n",
      "160124\n",
      "160125\n",
      "160126\n",
      "160129\n",
      "160130\n",
      "160325\n",
      "160326\n",
      "160327\n",
      "160328\n"
     ]
    }
   ],
   "source": [
    "for i in range(len(date_list)):\n",
    "    ## Use the aggregate table to pull out each individual date\n",
    "    date_name=np.array(date_list.loc[i])[0].astype(int)\n",
    "    print date_name\n",
    "    ## Pulls out all of the target observations for that night, organised by COB_ID and Pivot\n",
    "    extract=date_grouping.get_group(date_name)\n",
    "    \n",
    "    ## Read in the objects table for that night\n",
    "    filename='/Users/kschles/Documents/GALAH/iraf_v5.1/objects_by_date/'+date_name.astype(str)+'.txt'\n",
    "    temp_objects=pd.read_csv(filename, names=['runccd_id','run_id','pivot','fibre','type','ra','dec','x','y','xerr','yerr','theta','object_name','comment','mag','pmra','pmdec','pid','retractor','wlen','galah_id','out_name','airmass','barycentric','heliocentric'],index_col=False, low_memory=False)\n",
    "    \n",
    "    ### REDO HOW THIS MATCHES THINGS UP???\n",
    "    y=pd.merge(extract, temp_objects[['runccd_id', 'pivot', 'object_name', 'comment', 'mag', 'galah_id']], how=\"left\", on=['runccd_id', 'pivot'])\n",
    "    \n",
    "    ## the result dataframe has the combination of big_combo with the objects table and we append the combo from each night. \n",
    "    if (i==0) : \n",
    "        result=y\n",
    "    else :\n",
    "        result=result.append(y)\n"
   ]
  },
  {
   "cell_type": "markdown",
   "metadata": {},
   "source": [
    "The result table has all objects, even those observed as MFFLX stars. Thus, it needs to be cleaned up. "
   ]
  },
  {
   "cell_type": "code",
   "execution_count": 13,
   "metadata": {
    "collapsed": false
   },
   "outputs": [],
   "source": [
    "result.reset_index(drop=True, inplace=True)"
   ]
  },
  {
   "cell_type": "code",
   "execution_count": 16,
   "metadata": {
    "collapsed": true
   },
   "outputs": [],
   "source": [
    "## Clean up the table columns.\n",
    "result2=result.loc[np.where(result['ndfclass_updated'].str.match('MFOBJECT', as_indexer=True)==True)[0]]\n",
    "result2.reset_index(drop=True, inplace=True)\n",
    "result2.rename(columns={'galah_id_x' : 'galah_id'}, inplace=True)\n"
   ]
  },
  {
   "cell_type": "markdown",
   "metadata": {
    "collapsed": true
   },
   "source": [
    "Use STILTS to match up the table with 2MASS, APASS, and UCAC4. Searching for a match for each target in the result2 table within 1 arcsecond. \n",
    "\n",
    "2MASS catalog is II/246/out \n",
    "\n",
    "UCAC4 catalog is 'I/322A/out' \n",
    "\n",
    "PPMXL is 'I/317'\n",
    "\n",
    "SPM is 'I/320'\n",
    "\n",
    "The USNO-B catalog is 'I/284/out'\n",
    "\n",
    "If the OS command returns a 0, all is well with the matching. "
   ]
  },
  {
   "cell_type": "code",
   "execution_count": 18,
   "metadata": {
    "collapsed": true
   },
   "outputs": [],
   "source": [
    "## First output the file to a temporary csv. \n",
    "result2[['sobject_id', 'ra', 'dec']].to_csv('result_temp.csv', index=False)"
   ]
  },
  {
   "cell_type": "code",
   "execution_count": 19,
   "metadata": {
    "collapsed": false
   },
   "outputs": [
    {
     "data": {
      "text/plain": [
       "0"
      ]
     },
     "execution_count": 19,
     "metadata": {},
     "output_type": "execute_result"
    }
   ],
   "source": [
    "## Then query 2MASS with these targets. stilts.jar must be in your working directory. \n",
    "os.system('java -jar stilts.jar cdsskymatch cdstable=II/246/out find=each in=result_temp.csv ifmt=csv ra=ra dec=dec radius=1 out=result_temp_2mass.csv')"
   ]
  },
  {
   "cell_type": "code",
   "execution_count": 20,
   "metadata": {
    "collapsed": false
   },
   "outputs": [
    {
     "data": {
      "text/plain": [
       "0"
      ]
     },
     "execution_count": 20,
     "metadata": {},
     "output_type": "execute_result"
    }
   ],
   "source": [
    "## Query UCAC4 with STILTS and target list \n",
    "os.system('java -jar stilts.jar cdsskymatch cdstable=I/322A/out find=each in=result_temp.csv ifmt=csv ra=ra dec=dec radius=1 out=result_temp_ucac4.csv')"
   ]
  },
  {
   "cell_type": "code",
   "execution_count": 21,
   "metadata": {
    "collapsed": false
   },
   "outputs": [
    {
     "data": {
      "text/plain": [
       "0"
      ]
     },
     "execution_count": 21,
     "metadata": {},
     "output_type": "execute_result"
    }
   ],
   "source": [
    "## Query APASS with STILTS and target list \n",
    "os.system('java -jar stilts.jar cdsskymatch cdstable=II/336/apass9 find=each in=result_temp.csv ifmt=csv ra=ra dec=dec radius=1 out=result_temp_apass.csv')"
   ]
  },
  {
   "cell_type": "markdown",
   "metadata": {},
   "source": [
    "Once you have the relevant data tables, match them with the results2 table based on cob_id and pivot. "
   ]
  },
  {
   "cell_type": "code",
   "execution_count": 22,
   "metadata": {
    "collapsed": false
   },
   "outputs": [],
   "source": [
    "## Read in the data you just pulled. \n",
    "twomass_data=pd.read_csv('result_temp_2mass.csv')\n",
    "ucac4_data=pd.read_csv('result_temp_ucac4.csv')\n",
    "#usnob_data=pd.read_csv('result_temp_usnob.csv')\n",
    "apass_data=pd.read_csv('result_temp_apass.csv')"
   ]
  },
  {
   "cell_type": "code",
   "execution_count": 23,
   "metadata": {
    "collapsed": false
   },
   "outputs": [],
   "source": [
    "temp1=pd.merge(result2, twomass_data[['sobject_id', '2MASS', 'Jmag', 'e_Jmag', \\\n",
    "                                     'Hmag', 'e_Hmag', 'Kmag', 'e_Kmag', 'Qfl', 'Rfl', 'X']], how='left', on=['sobject_id'])\n",
    "temp2=pd.merge(temp1, ucac4_data[['sobject_id', 'UCAC4', 'pmRA', 'e_pmRA', 'pmDE', 'e_pmDE']], how='left', on=['sobject_id'])\n",
    "combined_table=pd.merge(temp2, apass_data[['sobject_id', 'Vmag', 'e_Vmag', 'Bmag', 'e_Bmag', \n",
    "                                 'gpmag', 'e_gpmag', 'rpmag', 'e_rpmag', 'ipmag', 'e_ipmag']], how='left', on=['sobject_id'])"
   ]
  },
  {
   "cell_type": "code",
   "execution_count": 24,
   "metadata": {
    "collapsed": true
   },
   "outputs": [],
   "source": [
    "## Adjust column names\n",
    "combined_table.rename(columns={'2MASS' : '2MASS_ID', 'UCAC4' : 'UCAC4_ID', 'teff' : 'TEFF_GUESS', \\\n",
    "                              'logg' : 'LOGG_GUESS', 'feh' : 'FEH_GUESS', 'qflag' : 'RED_QFLAG', \\\n",
    "                              'galah_id' : 'GALAH_ID'}, inplace=True)\n",
    "## Shift all to upper case\n",
    "combined_table.columns = [x.upper() for x in combined_table.columns]"
   ]
  },
  {
   "cell_type": "markdown",
   "metadata": {},
   "source": [
    "Now I output the resulting combined table as a FITS file to use for other programs. "
   ]
  },
  {
   "cell_type": "code",
   "execution_count": 25,
   "metadata": {
    "collapsed": true
   },
   "outputs": [],
   "source": [
    "combined_table.loc[np.where(combined_table['GALAH_ID'].isnull()==True)[0], 'GALAH_ID']=-1"
   ]
  },
  {
   "cell_type": "code",
   "execution_count": 28,
   "metadata": {
    "collapsed": false
   },
   "outputs": [
    {
     "data": {
      "text/plain": [
       "array(['sobject_id', 'galah_id', 'cob_id', 'pivot', 'field_id', 'ra',\n",
       "       'dec', 'ebv', 'barycentric', 'rv_c1_guess', 'rv_c2_guess',\n",
       "       'rv_c3_guess', 'rv_c4_guess', 'rv_guess', 'e_rv_guess',\n",
       "       'teff_guess', 'logg_guess', 'feh_guess', 'flag_guess',\n",
       "       'snr_c1_guess', 'snr_c2_guess', 'snr_c3_guess', 'snr_c4_guess',\n",
       "       'snr_c1_iraf', 'snr_c2_iraf', 'snr_c3_iraf', 'snr_c4_iraf',\n",
       "       'snr2_c1_iraf', 'snr2_c2_iraf', 'snr2_c3_iraf', 'snr2_c4_iraf',\n",
       "       'red_flag', 'red_vers', 'cenra', 'cendec', 'red_qflag', 'std_name',\n",
       "       'cfg_file', 'obsid', 'ndfclass_updated', 'runccd_id', 'dirname',\n",
       "       'object_name', 'comment', 'mag', 'galah_id_y', '2mass_id', 'jmag',\n",
       "       'e_jmag', 'hmag', 'e_hmag', 'kmag', 'e_kmag', 'qfl', 'rfl', 'x',\n",
       "       'ucac4_id', 'pmra', 'e_pmra', 'pmde', 'e_pmde', 'vmag', 'e_vmag',\n",
       "       'bmag', 'e_bmag', 'gpmag', 'e_gpmag', 'rpmag', 'e_rpmag', 'ipmag',\n",
       "       'e_ipmag'], dtype=object)"
      ]
     },
     "execution_count": 28,
     "metadata": {},
     "output_type": "execute_result"
    }
   ],
   "source": [
    "combined_table.rename(columns=lambda x: x.lower(), inplace=True)\n",
    "combined_table.columns.values"
   ]
  },
  {
   "cell_type": "code",
   "execution_count": 29,
   "metadata": {
    "collapsed": true
   },
   "outputs": [],
   "source": [
    "combined_table['placeholder']=None"
   ]
  },
  {
   "cell_type": "code",
   "execution_count": 47,
   "metadata": {
    "collapsed": false
   },
   "outputs": [],
   "source": [
    "## Output to FITS file \n",
    "\n",
    "## Target Information\n",
    "col01=fits.Column(name='sobject_id', format='K15', array=combined_table['sobject_id'])\n",
    "col02=fits.Column(name='date',format='I6', array=combined_table['dirname'])\n",
    "col03=fits.Column(name='galah_id',format='K15',null=-1, array=combined_table['galah_id'])\n",
    "col04=fits.Column(name='ra',format='F',unit='deg', array=combined_table['ra'])\n",
    "col05=fits.Column(name='dec',format='F',unit='deg', array=combined_table['dec'])\n",
    "col06=fits.Column(name='field_id',format='A50',unit='', array=combined_table['cfg_file'])\n",
    "col07=fits.Column(name='program_id',format='A20',unit='', array=combined_table['placeholder'])\n",
    "col08=fits.Column(name='utmjd',format='E',unit='', array=combined_table['placeholder'])\n",
    "col09=fits.Column(name='eff_midtexp',format='E', unit='s', array=combined_table['placeholder'])\n",
    "col10=fits.Column(name='eff_texp',format='E', unit='s', array=combined_table['placeholder'])\n",
    "col11=fits.Column(name='object_name',format='A20', array=combined_table['object_name'])\n",
    "col12=fits.Column(name='comment',format='A20', array=combined_table['comment'])\n",
    "col13=fits.Column(name='barycentric',format='F', array=combined_table['barycentric'])\n",
    "col14=fits.Column(name='ebv',format='F',unit='mag', array=combined_table['ebv'])\n",
    "col15=fits.Column(name='red_vers',format='F',unit='', array=combined_table['red_vers'])\n",
    "col16=fits.Column(name='red_flag',format='F',unit='', array=combined_table['red_flag'])\n",
    "col17=fits.Column(name='snr_c1_iraf', format='F', unit='', array=combined_table['snr_c1_iraf'])\n",
    "col18=fits.Column(name='snr_c2_iraf', format='F', unit='', array=combined_table['snr_c2_iraf'])\n",
    "col19=fits.Column(name='snr_c3_iraf', format='F', unit='', array=combined_table['snr_c3_iraf'])\n",
    "col20=fits.Column(name='snr_c4_iraf', format='F', unit='', array=combined_table['snr_c4_iraf'])\n",
    "col21=fits.Column(name='snr_c1_guess', format='F', unit='', array=combined_table['snr_c1_guess'])\n",
    "col22=fits.Column(name='snr_c2_guess', format='F', unit='', array=combined_table['snr_c2_guess'])\n",
    "col23=fits.Column(name='snr_c3_guess', format='F', unit='', array=combined_table['snr_c3_guess'])\n",
    "col24=fits.Column(name='snr_c4_guess', format='F', unit='', array=combined_table['snr_c4_guess'])\n",
    "## 2MASS Information \n",
    "col25=fits.Column(name='id_tmass',format='A20', unit='',array=combined_table['2mass_id'])\n",
    "col26=fits.Column(name='j_tmass',format='E', unit='mag',array=combined_table['jmag'])\n",
    "col27=fits.Column(name='e_j_tmass',format='E', unit='mag',array=combined_table['e_jmag'])\n",
    "col28=fits.Column(name='h_tmass',format='E', unit='mag',array=combined_table['hmag'])\n",
    "col29=fits.Column(name='e_h_tmass',format='E', unit='mag',array=combined_table['e_hmag'])\n",
    "col30=fits.Column(name='k_tmass',format='E', unit='mag',array=combined_table['kmag'])\n",
    "col31=fits.Column(name='e_k_tmass',format='E', unit='mag',array=combined_table['e_kmag'])\n",
    "col32=fits.Column(name='qfl_tmass',format='A5', unit='',array=combined_table['qfl'])\n",
    "col33=fits.Column(name='rfl_tmass',format='I3', unit='',array=combined_table['rfl'])\n",
    "col34=fits.Column(name='xfl_tmass',format='I1', unit='',array=combined_table['x'])\n",
    "## APASS Information \n",
    "col35=fits.Column(name='b_apass',format='E', unit='mag',array=combined_table['bmag'])\n",
    "col36=fits.Column(name='e_b_apass',format='E', unit='mag',array=combined_table['e_bmag'])\n",
    "col37=fits.Column(name='v_apass',format='E', unit='mag',array=combined_table['vmag'])\n",
    "col38=fits.Column(name='e_v_apass',format='E', unit='mag',array=combined_table['e_vmag'])\n",
    "col39=fits.Column(name='g_apass',format='E', unit='mag',array=combined_table['gpmag'])\n",
    "col40=fits.Column(name='e_g_apass',format='E', unit='mag',array=combined_table['e_gpmag'])\n",
    "col41=fits.Column(name='r_apass',format='E', unit='mag',array=combined_table['rpmag'])\n",
    "col42=fits.Column(name='e_r_apass',format='E', unit='mag',array=combined_table['e_rpmag'])\n",
    "col43=fits.Column(name='i_apass',format='E', unit='mag',array=combined_table['ipmag'])\n",
    "col44=fits.Column(name='e_i_apass',format='E', unit='mag',array=combined_table['e_ipmag'])\n",
    "## UCAC4 Information \n",
    "col45=fits.Column(name='id_ucac4',format='A10', unit='',array=combined_table['ucac4_id'])\n",
    "col46=fits.Column(name='pmra_ucac4',format='E', unit='mas/yr',array=combined_table['pmra'])\n",
    "col47=fits.Column(name='e_pmra_ucac4',format='E', unit='mas/yr',array=combined_table['e_pmra'])\n",
    "col48=fits.Column(name='pmdec_ucac4',format='E', unit='mas/yr',array=combined_table['pmde'])\n",
    "col49=fits.Column(name='e_pmdec_ucac4',format='E', unit='mas/yr',array=combined_table['e_pmde'])\n",
    "\n"
   ]
  },
  {
   "cell_type": "code",
   "execution_count": 48,
   "metadata": {
    "collapsed": false
   },
   "outputs": [],
   "source": [
    "#get_ipython().system(u'rm iraf_output_combination.fits')\n",
    "cols=fits.ColDefs([col01,col02,col03,col04,col05,col06,col07,col08,col09,col10,\\\n",
    "                   col11,col12,col13,col14,col15,col16,col17,col18,col19,col20,\\\n",
    "                   col21,col22,col23,col24,col25,col26,col27,col28,col29,col30,\\\n",
    "                   col31,col32,col33,col34,col35,col36,col37,col38,col39,col40,\\\n",
    "                   col41,col42,col43,col44,col45,col46,col47,col48,col49])\n",
    "tbhdu=fits.BinTableHDU.from_columns(cols)\n",
    "tbhdu.writeto('sobject_iraf_general.fits')\n"
   ]
  },
  {
   "cell_type": "markdown",
   "metadata": {},
   "source": [
    "output to csv with comparable information??"
   ]
  },
  {
   "cell_type": "markdown",
   "metadata": {},
   "source": [
    "IN THE FUTURE WE CAN COMBINE WITH ADDITIONAL INFORMATION, LIKE VALUES FROM TOMAZ AND JANE"
   ]
  },
  {
   "cell_type": "code",
   "execution_count": null,
   "metadata": {
    "collapsed": true
   },
   "outputs": [],
   "source": []
  }
 ],
 "metadata": {
  "kernelspec": {
   "display_name": "Python 2",
   "language": "python",
   "name": "python2"
  },
  "language_info": {
   "codemirror_mode": {
    "name": "ipython",
    "version": 2
   },
   "file_extension": ".py",
   "mimetype": "text/x-python",
   "name": "python",
   "nbconvert_exporter": "python",
   "pygments_lexer": "ipython2",
   "version": "2.7.6"
  }
 },
 "nbformat": 4,
 "nbformat_minor": 0
}
